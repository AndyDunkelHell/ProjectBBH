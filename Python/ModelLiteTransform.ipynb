{
  "cells": [
    {
      "cell_type": "code",
      "execution_count": null,
      "id": "bbca6d77",
      "metadata": {
        "colab": {
          "base_uri": "https://localhost:8080/"
        },
        "id": "bbca6d77",
        "outputId": "82adc8f0-9132-4b0c-c6f7-8c99762d9ab6"
      },
      "outputs": [
        {
          "name": "stdout",
          "output_type": "stream",
          "text": [
            "Model: \"sequential_4\"\n",
            "_________________________________________________________________\n",
            " Layer (type)                Output Shape              Param #   \n",
            "=================================================================\n",
            " conv2d_12 (Conv2D)          (None, 2, 4, 32)          64        \n",
            "                                                                 \n",
            " conv2d_13 (Conv2D)          (None, 2, 3, 32)          2080      \n",
            "                                                                 \n",
            " conv2d_14 (Conv2D)          (None, 1, 2, 32)          4128      \n",
            "                                                                 \n",
            " flatten_4 (Flatten)         (None, 64)                0         \n",
            "                                                                 \n",
            " dense_8 (Dense)             (None, 64)                4160      \n",
            "                                                                 \n",
            " dropout_4 (Dropout)         (None, 64)                0         \n",
            "                                                                 \n",
            " dense_9 (Dense)             (None, 8)                 520       \n",
            "                                                                 \n",
            "=================================================================\n",
            "Total params: 10,952\n",
            "Trainable params: 10,952\n",
            "Non-trainable params: 0\n",
            "_________________________________________________________________\n",
            "2.12.0\n"
          ]
        }
      ],
      "source": [
        "from tensorflow import keras\n",
        "import numpy as np\n",
        "import tensorflow as tf\n",
        "\n",
        "reconstructed_model = keras.models.load_model(\"model_Final_v1.3.h5\")\n",
        "\n",
        "\n",
        "\n",
        "reconstructed_model.summary()\n",
        "print(tf.__version__)\n"
      ]
    },
    {
      "cell_type": "code",
      "execution_count": null,
      "id": "11256c7a",
      "metadata": {
        "colab": {
          "base_uri": "https://localhost:8080/"
        },
        "id": "11256c7a",
        "outputId": "83ea592a-0fae-4bd5-9f4f-5abc1b5d307b"
      },
      "outputs": [
        {
          "name": "stdout",
          "output_type": "stream",
          "text": [
            "[1378.  105.  972.   38.   87.    2.   73.   93.]\n",
            "[[-0.52909061 -0.51164688 -0.68742373 -0.59576126]\n",
            " [-0.59865881 -0.59273895 -0.1869833  -0.43971528]]\n",
            "[[[[-0.52909061]\n",
            "   [-0.51164688]\n",
            "   [-0.68742373]\n",
            "   [-0.59576126]]\n",
            "\n",
            "  [[-0.59865881]\n",
            "   [-0.59273895]\n",
            "   [-0.1869833 ]\n",
            "   [-0.43971528]]]]\n",
            "1/1 [==============================] - 0s 131ms/step\n",
            "[[7.8270929e-08 3.0368696e-08 5.8848183e-08 5.2309019e-08 2.5802500e-08\n",
            "  5.4409270e-08 3.0211544e-01 6.9788420e-01]]\n",
            "7\n"
          ]
        }
      ],
      "source": [
        "\n",
        "input_str = '1378;105;972;38;87;2;73;93'\n",
        "arr = list(map(float, input_str.split(';')))\n",
        "print(np.array(arr))\n",
        "mean = np.array([1991.033102, 979.100292, 1384.605909, 690.083826, 202.240331, 50218.089443, 303.198568, 152.770388])\n",
        "std = np.array([1158.654284, 1460.097603, 806.427103, 1100.119750, 167.640898,268559.217730,386.393986, 135.929749])\n",
        "arr = (arr- mean) / std\n",
        "arr_0 = np.stack((arr[0],arr[2],arr[4],arr[6]), axis=0)\n",
        "arr_1 = np.stack((arr[1],arr[3], arr[5],arr[7]), axis=0)\n",
        "x_arr = np.stack((arr_0,arr_1), axis=0)\n",
        "print(x_arr)\n",
        "\n",
        "print(x_arr.reshape(1,2,4,1))\n",
        "y_prob = reconstructed_model.predict(x_arr.reshape(1,2,4,1))\n",
        "y_classes = y_prob.argmax()\n",
        "print(y_prob)\n",
        "print(y_classes)"
      ]
    },
    {
      "cell_type": "code",
      "execution_count": null,
      "id": "07cbe4af",
      "metadata": {
        "colab": {
          "base_uri": "https://localhost:8080/"
        },
        "id": "07cbe4af",
        "outputId": "d36619b2-58f0-4ac1-9f46-0b6907e25651"
      },
      "outputs": [
        {
          "name": "stderr",
          "output_type": "stream",
          "text": [
            "WARNING:absl:Found untraced functions such as _jit_compiled_convolution_op, _jit_compiled_convolution_op, _jit_compiled_convolution_op, _update_step_xla while saving (showing 4 of 4). These functions will not be directly callable after loading.\n"
          ]
        }
      ],
      "source": [
        "# Convert the model\n",
        "converter = tf.lite.TFLiteConverter.from_keras_model(reconstructed_model) # path to the SavedModel directory\n",
        "tflite_model = converter.convert()\n",
        "\n",
        "# Save the model.\n",
        "with open('model_final_v1.tflite', 'wb') as f:\n",
        "  f.write(tflite_model)"
      ]
    },
    {
      "cell_type": "code",
      "execution_count": null,
      "id": "4832a276",
      "metadata": {
        "colab": {
          "base_uri": "https://localhost:8080/"
        },
        "id": "4832a276",
        "outputId": "0aa66b7d-d2e3-4afc-eda9-43864a44bb10"
      },
      "outputs": [
        {
          "name": "stdout",
          "output_type": "stream",
          "text": [
            "=== TFLite ModelAnalyzer ===\n",
            "\n",
            "Your TFLite model has '1' subgraph(s). In the subgraph description below,\n",
            "T# represents the Tensor numbers. For example, in Subgraph#0, the CONV_2D op takes\n",
            "tensor #0 and tensor #4 and tensor #1 as input and produces tensor #12 as output.\n",
            "\n",
            "Subgraph#0 main(T#0) -> [T#18]\n",
            "  Op#0 CONV_2D(T#0, T#4, T#1) -> [T#12]\n",
            "  Op#1 CONV_2D(T#12, T#5, T#2) -> [T#13]\n",
            "  Op#2 CONV_2D(T#13, T#6, T#3) -> [T#14]\n",
            "  Op#3 RESHAPE(T#14, T#9[-1, 64]) -> [T#15]\n",
            "  Op#4 FULLY_CONNECTED(T#15, T#10, T#8) -> [T#16]\n",
            "  Op#5 FULLY_CONNECTED(T#16, T#11, T#7) -> [T#17]\n",
            "  Op#6 SOFTMAX(T#17) -> [T#18]\n",
            "\n",
            "Tensors of Subgraph#0\n",
            "  T#0(serving_default_conv2d_12_input:0) shape_signature:[-1, 2, 4, 1], type:FLOAT32\n",
            "  T#1(sequential_4/conv2d_12/BiasAdd/ReadVariableOp) shape:[32], type:FLOAT32 RO 128 bytes, buffer: 2, data:[0.169275, 0.123473, -0.000977548, -0.00709174, 0.145095, ...]\n",
            "  T#2(sequential_4/conv2d_13/BiasAdd/ReadVariableOp) shape:[32], type:FLOAT32 RO 128 bytes, buffer: 3, data:[0.162775, -0.0578155, 0.148989, -0.000426466, 0.12628, ...]\n",
            "  T#3(sequential_4/conv2d_14/BiasAdd/ReadVariableOp) shape:[32], type:FLOAT32 RO 128 bytes, buffer: 4, data:[0.0720937, 0.0729166, 0.248734, 0.107972, -0.143058, ...]\n",
            "  T#4(sequential_4/conv2d_12/Conv2D) shape:[32, 1, 1, 1], type:FLOAT32 RO 128 bytes, buffer: 5, data:[-0.610611, 0.28245, -1.25505e-11, 0.00408581, 0.324513, ...]\n",
            "  T#5(sequential_4/conv2d_13/Conv2D) shape:[32, 1, 2, 32], type:FLOAT32 RO 8192 bytes, buffer: 6, data:[0.0250642, 0.00964799, -2.38024e-34, 0.00112821, 0.0170755, ...]\n",
            "  T#6(sequential_4/conv2d_14/Conv2D) shape:[32, 2, 2, 32], type:FLOAT32 RO 16384 bytes, buffer: 7, data:[0.0331607, 2.52473e-33, 0.0315249, 7.16928e-34, -0.0151017, ...]\n",
            "  T#7(sequential_4/dense_9/BiasAdd/ReadVariableOp) shape:[8], type:FLOAT32 RO 32 bytes, buffer: 8, data:[-0.927724, -0.775241, -0.896547, -0.850335, -0.788787, ...]\n",
            "  T#8(sequential_4/dense_8/BiasAdd/ReadVariableOp) shape:[64], type:FLOAT32 RO 256 bytes, buffer: 9, data:[-0.0382257, 0.0303789, 0.140217, -0.0270933, 0.407237, ...]\n",
            "  T#9(sequential_4/flatten_4/Const) shape:[2], type:INT32 RO 8 bytes, buffer: 10, data:[-1, 64]\n",
            "  T#10(sequential_4/dense_8/MatMul) shape:[64, 64], type:FLOAT32 RO 16384 bytes, buffer: 11, data:[-2.64913e-33, 4.1256e-33, 3.03068e-33, 2.38586e-33, 4.04673e-33, ...]\n",
            "  T#11(sequential_4/dense_9/MatMul) shape:[8, 64], type:FLOAT32 RO 2048 bytes, buffer: 12, data:[0.198004, -0.628682, -0.825656, 0.167403, -1.10637, ...]\n",
            "  T#12(sequential_4/conv2d_12/Relu;sequential_4/conv2d_12/BiasAdd;sequential_4/conv2d_14/Conv2D;sequential_4/conv2d_12/Conv2D;sequential_4/conv2d_12/BiasAdd/ReadVariableOp) shape_signature:[-1, 2, 4, 32], type:FLOAT32\n",
            "  T#13(sequential_4/conv2d_13/Relu;sequential_4/conv2d_13/BiasAdd;sequential_4/conv2d_14/Conv2D;sequential_4/conv2d_13/Conv2D;sequential_4/conv2d_13/BiasAdd/ReadVariableOp) shape_signature:[-1, 2, 3, 32], type:FLOAT32\n",
            "  T#14(sequential_4/conv2d_14/Relu;sequential_4/conv2d_14/BiasAdd;sequential_4/conv2d_14/Conv2D;sequential_4/conv2d_14/BiasAdd/ReadVariableOp) shape_signature:[-1, 1, 2, 32], type:FLOAT32\n",
            "  T#15(sequential_4/flatten_4/Reshape) shape_signature:[-1, 64], type:FLOAT32\n",
            "  T#16(sequential_4/dense_8/MatMul;sequential_4/dense_8/Relu;sequential_4/dense_8/BiasAdd) shape_signature:[-1, 64], type:FLOAT32\n",
            "  T#17(sequential_4/dense_9/MatMul;sequential_4/dense_9/BiasAdd) shape_signature:[-1, 8], type:FLOAT32\n",
            "  T#18(StatefulPartitionedCall:0) shape_signature:[-1, 8], type:FLOAT32\n",
            "\n",
            "---------------------------------------------------------------\n",
            "Your TFLite model has '1' signature_def(s).\n",
            "\n",
            "Signature#0 key: 'serving_default'\n",
            "- Subgraph: Subgraph#0\n",
            "- Inputs: \n",
            "    'conv2d_12_input' : T#0\n",
            "- Outputs: \n",
            "    'dense_9' : T#18\n",
            "\n",
            "---------------------------------------------------------------\n",
            "              Model size:      47444 bytes\n",
            "    Non-data buffer size:       3528 bytes (07.44 %)\n",
            "  Total data buffer size:      43916 bytes (92.56 %)\n",
            "    (Zero value buffers):          0 bytes (00.00 %)\n",
            "\n",
            "* Buffers of TFLite model are mostly used for constant tensors.\n",
            "  And zero value buffers are buffers filled with zeros.\n",
            "  Non-data buffers area are used to store operators, subgraphs and etc.\n",
            "  You can find more details from https://github.com/tensorflow/tensorflow/blob/master/tensorflow/lite/schema/schema.fbs\n",
            "\n"
          ]
        }
      ],
      "source": [
        "tf.lite.experimental.Analyzer.analyze(model_content=tflite_model)"
      ]
    },
    {
      "cell_type": "code",
      "execution_count": null,
      "id": "e474d30b",
      "metadata": {
        "colab": {
          "base_uri": "https://localhost:8080/"
        },
        "id": "e474d30b",
        "outputId": "227d0509-cdba-46a0-d575-6bde2aa6e656"
      },
      "outputs": [
        {
          "name": "stdout",
          "output_type": "stream",
          "text": [
            "[{'name': 'serving_default_conv2d_12_input:0', 'index': 0, 'shape': array([1, 2, 4, 1], dtype=int32), 'shape_signature': array([-1,  2,  4,  1], dtype=int32), 'dtype': <class 'numpy.float32'>, 'quantization': (0.0, 0), 'quantization_parameters': {'scales': array([], dtype=float32), 'zero_points': array([], dtype=int32), 'quantized_dimension': 0}, 'sparsity_parameters': {}}]\n",
            "[{'name': 'StatefulPartitionedCall:0', 'index': 18, 'shape': array([1, 8], dtype=int32), 'shape_signature': array([-1,  8], dtype=int32), 'dtype': <class 'numpy.float32'>, 'quantization': (0.0, 0), 'quantization_parameters': {'scales': array([], dtype=float32), 'zero_points': array([], dtype=int32), 'quantized_dimension': 0}, 'sparsity_parameters': {}}]\n",
            "[[[[-0.5290906 ]\n",
            "   [-0.51164687]\n",
            "   [-0.6874237 ]\n",
            "   [-0.59576124]]\n",
            "\n",
            "  [[-0.5986588 ]\n",
            "   [-0.5927389 ]\n",
            "   [-0.1869833 ]\n",
            "   [-0.4397153 ]]]]\n",
            "[1 2 4 1]\n",
            "[7.8270908e-08 3.0368689e-08 5.8848165e-08 5.2309204e-08 2.5802491e-08\n",
            " 5.4409366e-08 3.0211562e-01 6.9788402e-01]\n"
          ]
        }
      ],
      "source": [
        "# Load TFLite model and allocate tensors.\n",
        "\n",
        "interpreter = tf.lite.Interpreter(model_path=\"model_final_v1.tflite\")\n",
        "interpreter.allocate_tensors()\n",
        "\n",
        "# Get input and output tensors.\n",
        "input_details = interpreter.get_input_details()\n",
        "output_details = interpreter.get_output_details()\n",
        "\n",
        "print(input_details)\n",
        "\n",
        "print(output_details)\n",
        "\n",
        "# Test model on random input data.\n",
        "input_shape = input_details[0]['shape']\n",
        "input_data = np.array(x_arr.reshape(1,2,4,1),dtype=np.float32)\n",
        "print(input_data)\n",
        "print(input_shape)\n",
        "interpreter.set_tensor(input_details[0]['index'], input_data)\n",
        "\n",
        "interpreter.invoke()\n",
        "\n",
        "# The function `get_tensor()` returns a copy of the tensor data.\n",
        "# Use `tensor()` in order to get a pointer to the tensor.\n",
        "output_data = interpreter.get_tensor(output_details[0]['index'])\n",
        "print(output_data[0])"
      ]
    },
    {
      "cell_type": "code",
      "execution_count": null,
      "id": "-04aOZhmtDq1",
      "metadata": {
        "colab": {
          "base_uri": "https://localhost:8080/"
        },
        "id": "-04aOZhmtDq1",
        "outputId": "1269357b-ea84-4b15-ba77-ec4f6fddf68c"
      },
      "outputs": [
        {
          "name": "stdout",
          "output_type": "stream",
          "text": [
            "7\n",
            "<class 'numpy.int64'>\n"
          ]
        }
      ],
      "source": [
        "y_testclasses = output_data.argmax()\n",
        "print(y_testclasses)\n",
        "print(type(y_testclasses))\n"
      ]
    },
    {
      "cell_type": "code",
      "execution_count": null,
      "id": "ds2DSS_N7Mq5",
      "metadata": {
        "id": "ds2DSS_N7Mq5"
      },
      "outputs": [],
      "source": []
    }
  ],
  "metadata": {
    "colab": {
      "provenance": []
    },
    "kernelspec": {
      "display_name": "gpu2",
      "language": "python",
      "name": "gpu2"
    },
    "language_info": {
      "codemirror_mode": {
        "name": "ipython",
        "version": 3
      },
      "file_extension": ".py",
      "mimetype": "text/x-python",
      "name": "python",
      "nbconvert_exporter": "python",
      "pygments_lexer": "ipython3",
      "version": "3.7.13"
    }
  },
  "nbformat": 4,
  "nbformat_minor": 5
}
