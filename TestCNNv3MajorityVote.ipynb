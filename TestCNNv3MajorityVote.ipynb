{
  "cells": [
    {
      "cell_type": "code",
      "execution_count": 211,
      "id": "c09a7ffb",
      "metadata": {
        "colab": {
          "base_uri": "https://localhost:8080/"
        },
        "id": "c09a7ffb",
        "outputId": "82fede18-a54b-49ae-fe42-edb7fb981daa"
      },
      "outputs": [
        {
          "output_type": "stream",
          "name": "stdout",
          "text": [
            "2.12.0\n"
          ]
        }
      ],
      "source": [
        "import pandas as pd\n",
        "import numpy as np\n",
        "import matplotlib.pyplot as plt\n",
        "import seaborn as sns\n",
        "import tensorflow as tf\n",
        "%matplotlib inline\n",
        "\n",
        "\n",
        "log_data = pd.read_csv(\"output.csv\",sep = \";\", header = None, dtype = float)\n",
        "\n",
        "log_data = log_data.astype(float)\n",
        "\n",
        "print(tf.__version__)\n",
        "input_length = log_data.size"
      ]
    },
    {
      "cell_type": "code",
      "execution_count": 212,
      "id": "13bdddfd",
      "metadata": {
        "colab": {
          "base_uri": "https://localhost:8080/",
          "height": 424
        },
        "id": "13bdddfd",
        "outputId": "16b4d5f7-bddc-4680-dc7c-b72a339c51e0"
      },
      "outputs": [
        {
          "output_type": "execute_result",
          "data": {
            "text/plain": [
              "         0       1      2       3      4      5      6      7      8\n",
              "0      7.0  2947.0  390.0  2471.0  225.0   93.0   70.0  210.0  406.0\n",
              "1      7.0  3035.0  531.0  2266.0  237.0   96.0   69.0  207.0  393.0\n",
              "2      7.0  3003.0  645.0  2004.0  213.0   93.0  138.0  208.0  384.0\n",
              "3      7.0  3210.0  725.0  1923.0  197.0   89.0  130.0  206.0  364.0\n",
              "4      7.0  3356.0  822.0  1934.0  217.0   81.0  134.0  208.0  348.0\n",
              "...    ...     ...    ...     ...    ...    ...    ...    ...    ...\n",
              "23317  7.0  2259.0  629.0  1832.0  538.0  155.0   10.0  163.0   71.0\n",
              "23318  7.0  2238.0  487.0  1891.0  582.0  154.0    8.0  166.0   79.0\n",
              "23319  7.0  2267.0  330.0  1899.0  514.0  119.0   11.0  119.0   77.0\n",
              "23320  7.0  2280.0  566.0  1881.0  592.0  135.0   12.0  172.0   84.0\n",
              "23321  7.0  2128.0  215.0  1590.0  419.0  123.0   10.0  134.0   97.0\n",
              "\n",
              "[23322 rows x 9 columns]"
            ],
            "text/html": [
              "\n",
              "  <div id=\"df-5439066f-2370-4775-8899-1ea7d1acdf08\">\n",
              "    <div class=\"colab-df-container\">\n",
              "      <div>\n",
              "<style scoped>\n",
              "    .dataframe tbody tr th:only-of-type {\n",
              "        vertical-align: middle;\n",
              "    }\n",
              "\n",
              "    .dataframe tbody tr th {\n",
              "        vertical-align: top;\n",
              "    }\n",
              "\n",
              "    .dataframe thead th {\n",
              "        text-align: right;\n",
              "    }\n",
              "</style>\n",
              "<table border=\"1\" class=\"dataframe\">\n",
              "  <thead>\n",
              "    <tr style=\"text-align: right;\">\n",
              "      <th></th>\n",
              "      <th>0</th>\n",
              "      <th>1</th>\n",
              "      <th>2</th>\n",
              "      <th>3</th>\n",
              "      <th>4</th>\n",
              "      <th>5</th>\n",
              "      <th>6</th>\n",
              "      <th>7</th>\n",
              "      <th>8</th>\n",
              "    </tr>\n",
              "  </thead>\n",
              "  <tbody>\n",
              "    <tr>\n",
              "      <th>0</th>\n",
              "      <td>7.0</td>\n",
              "      <td>2947.0</td>\n",
              "      <td>390.0</td>\n",
              "      <td>2471.0</td>\n",
              "      <td>225.0</td>\n",
              "      <td>93.0</td>\n",
              "      <td>70.0</td>\n",
              "      <td>210.0</td>\n",
              "      <td>406.0</td>\n",
              "    </tr>\n",
              "    <tr>\n",
              "      <th>1</th>\n",
              "      <td>7.0</td>\n",
              "      <td>3035.0</td>\n",
              "      <td>531.0</td>\n",
              "      <td>2266.0</td>\n",
              "      <td>237.0</td>\n",
              "      <td>96.0</td>\n",
              "      <td>69.0</td>\n",
              "      <td>207.0</td>\n",
              "      <td>393.0</td>\n",
              "    </tr>\n",
              "    <tr>\n",
              "      <th>2</th>\n",
              "      <td>7.0</td>\n",
              "      <td>3003.0</td>\n",
              "      <td>645.0</td>\n",
              "      <td>2004.0</td>\n",
              "      <td>213.0</td>\n",
              "      <td>93.0</td>\n",
              "      <td>138.0</td>\n",
              "      <td>208.0</td>\n",
              "      <td>384.0</td>\n",
              "    </tr>\n",
              "    <tr>\n",
              "      <th>3</th>\n",
              "      <td>7.0</td>\n",
              "      <td>3210.0</td>\n",
              "      <td>725.0</td>\n",
              "      <td>1923.0</td>\n",
              "      <td>197.0</td>\n",
              "      <td>89.0</td>\n",
              "      <td>130.0</td>\n",
              "      <td>206.0</td>\n",
              "      <td>364.0</td>\n",
              "    </tr>\n",
              "    <tr>\n",
              "      <th>4</th>\n",
              "      <td>7.0</td>\n",
              "      <td>3356.0</td>\n",
              "      <td>822.0</td>\n",
              "      <td>1934.0</td>\n",
              "      <td>217.0</td>\n",
              "      <td>81.0</td>\n",
              "      <td>134.0</td>\n",
              "      <td>208.0</td>\n",
              "      <td>348.0</td>\n",
              "    </tr>\n",
              "    <tr>\n",
              "      <th>...</th>\n",
              "      <td>...</td>\n",
              "      <td>...</td>\n",
              "      <td>...</td>\n",
              "      <td>...</td>\n",
              "      <td>...</td>\n",
              "      <td>...</td>\n",
              "      <td>...</td>\n",
              "      <td>...</td>\n",
              "      <td>...</td>\n",
              "    </tr>\n",
              "    <tr>\n",
              "      <th>23317</th>\n",
              "      <td>7.0</td>\n",
              "      <td>2259.0</td>\n",
              "      <td>629.0</td>\n",
              "      <td>1832.0</td>\n",
              "      <td>538.0</td>\n",
              "      <td>155.0</td>\n",
              "      <td>10.0</td>\n",
              "      <td>163.0</td>\n",
              "      <td>71.0</td>\n",
              "    </tr>\n",
              "    <tr>\n",
              "      <th>23318</th>\n",
              "      <td>7.0</td>\n",
              "      <td>2238.0</td>\n",
              "      <td>487.0</td>\n",
              "      <td>1891.0</td>\n",
              "      <td>582.0</td>\n",
              "      <td>154.0</td>\n",
              "      <td>8.0</td>\n",
              "      <td>166.0</td>\n",
              "      <td>79.0</td>\n",
              "    </tr>\n",
              "    <tr>\n",
              "      <th>23319</th>\n",
              "      <td>7.0</td>\n",
              "      <td>2267.0</td>\n",
              "      <td>330.0</td>\n",
              "      <td>1899.0</td>\n",
              "      <td>514.0</td>\n",
              "      <td>119.0</td>\n",
              "      <td>11.0</td>\n",
              "      <td>119.0</td>\n",
              "      <td>77.0</td>\n",
              "    </tr>\n",
              "    <tr>\n",
              "      <th>23320</th>\n",
              "      <td>7.0</td>\n",
              "      <td>2280.0</td>\n",
              "      <td>566.0</td>\n",
              "      <td>1881.0</td>\n",
              "      <td>592.0</td>\n",
              "      <td>135.0</td>\n",
              "      <td>12.0</td>\n",
              "      <td>172.0</td>\n",
              "      <td>84.0</td>\n",
              "    </tr>\n",
              "    <tr>\n",
              "      <th>23321</th>\n",
              "      <td>7.0</td>\n",
              "      <td>2128.0</td>\n",
              "      <td>215.0</td>\n",
              "      <td>1590.0</td>\n",
              "      <td>419.0</td>\n",
              "      <td>123.0</td>\n",
              "      <td>10.0</td>\n",
              "      <td>134.0</td>\n",
              "      <td>97.0</td>\n",
              "    </tr>\n",
              "  </tbody>\n",
              "</table>\n",
              "<p>23322 rows × 9 columns</p>\n",
              "</div>\n",
              "      <button class=\"colab-df-convert\" onclick=\"convertToInteractive('df-5439066f-2370-4775-8899-1ea7d1acdf08')\"\n",
              "              title=\"Convert this dataframe to an interactive table.\"\n",
              "              style=\"display:none;\">\n",
              "        \n",
              "  <svg xmlns=\"http://www.w3.org/2000/svg\" height=\"24px\"viewBox=\"0 0 24 24\"\n",
              "       width=\"24px\">\n",
              "    <path d=\"M0 0h24v24H0V0z\" fill=\"none\"/>\n",
              "    <path d=\"M18.56 5.44l.94 2.06.94-2.06 2.06-.94-2.06-.94-.94-2.06-.94 2.06-2.06.94zm-11 1L8.5 8.5l.94-2.06 2.06-.94-2.06-.94L8.5 2.5l-.94 2.06-2.06.94zm10 10l.94 2.06.94-2.06 2.06-.94-2.06-.94-.94-2.06-.94 2.06-2.06.94z\"/><path d=\"M17.41 7.96l-1.37-1.37c-.4-.4-.92-.59-1.43-.59-.52 0-1.04.2-1.43.59L10.3 9.45l-7.72 7.72c-.78.78-.78 2.05 0 2.83L4 21.41c.39.39.9.59 1.41.59.51 0 1.02-.2 1.41-.59l7.78-7.78 2.81-2.81c.8-.78.8-2.07 0-2.86zM5.41 20L4 18.59l7.72-7.72 1.47 1.35L5.41 20z\"/>\n",
              "  </svg>\n",
              "      </button>\n",
              "      \n",
              "  <style>\n",
              "    .colab-df-container {\n",
              "      display:flex;\n",
              "      flex-wrap:wrap;\n",
              "      gap: 12px;\n",
              "    }\n",
              "\n",
              "    .colab-df-convert {\n",
              "      background-color: #E8F0FE;\n",
              "      border: none;\n",
              "      border-radius: 50%;\n",
              "      cursor: pointer;\n",
              "      display: none;\n",
              "      fill: #1967D2;\n",
              "      height: 32px;\n",
              "      padding: 0 0 0 0;\n",
              "      width: 32px;\n",
              "    }\n",
              "\n",
              "    .colab-df-convert:hover {\n",
              "      background-color: #E2EBFA;\n",
              "      box-shadow: 0px 1px 2px rgba(60, 64, 67, 0.3), 0px 1px 3px 1px rgba(60, 64, 67, 0.15);\n",
              "      fill: #174EA6;\n",
              "    }\n",
              "\n",
              "    [theme=dark] .colab-df-convert {\n",
              "      background-color: #3B4455;\n",
              "      fill: #D2E3FC;\n",
              "    }\n",
              "\n",
              "    [theme=dark] .colab-df-convert:hover {\n",
              "      background-color: #434B5C;\n",
              "      box-shadow: 0px 1px 3px 1px rgba(0, 0, 0, 0.15);\n",
              "      filter: drop-shadow(0px 1px 2px rgba(0, 0, 0, 0.3));\n",
              "      fill: #FFFFFF;\n",
              "    }\n",
              "  </style>\n",
              "\n",
              "      <script>\n",
              "        const buttonEl =\n",
              "          document.querySelector('#df-5439066f-2370-4775-8899-1ea7d1acdf08 button.colab-df-convert');\n",
              "        buttonEl.style.display =\n",
              "          google.colab.kernel.accessAllowed ? 'block' : 'none';\n",
              "\n",
              "        async function convertToInteractive(key) {\n",
              "          const element = document.querySelector('#df-5439066f-2370-4775-8899-1ea7d1acdf08');\n",
              "          const dataTable =\n",
              "            await google.colab.kernel.invokeFunction('convertToInteractive',\n",
              "                                                     [key], {});\n",
              "          if (!dataTable) return;\n",
              "\n",
              "          const docLinkHtml = 'Like what you see? Visit the ' +\n",
              "            '<a target=\"_blank\" href=https://colab.research.google.com/notebooks/data_table.ipynb>data table notebook</a>'\n",
              "            + ' to learn more about interactive tables.';\n",
              "          element.innerHTML = '';\n",
              "          dataTable['output_type'] = 'display_data';\n",
              "          await google.colab.output.renderOutput(dataTable, element);\n",
              "          const docLink = document.createElement('div');\n",
              "          docLink.innerHTML = docLinkHtml;\n",
              "          element.appendChild(docLink);\n",
              "        }\n",
              "      </script>\n",
              "    </div>\n",
              "  </div>\n",
              "  "
            ]
          },
          "metadata": {},
          "execution_count": 212
        }
      ],
      "source": [
        "\n",
        "log_data"
      ]
    },
    {
      "cell_type": "code",
      "execution_count": 213,
      "id": "ba72214e",
      "metadata": {
        "colab": {
          "base_uri": "https://localhost:8080/"
        },
        "id": "ba72214e",
        "outputId": "e925f4ad-f878-4a5a-8d79-3cf4585b7f0f"
      },
      "outputs": [
        {
          "output_type": "execute_result",
          "data": {
            "text/plain": [
              "0          7.0\n",
              "1      24854.0\n",
              "2      27372.0\n",
              "3      16811.0\n",
              "4      18448.0\n",
              "5       2856.0\n",
              "6    2742448.0\n",
              "7       5857.0\n",
              "8       1885.0\n",
              "dtype: float64"
            ]
          },
          "metadata": {},
          "execution_count": 213
        }
      ],
      "source": [
        "log_data.max()\n",
        "\n"
      ]
    },
    {
      "cell_type": "code",
      "source": [
        "log_data.min()"
      ],
      "metadata": {
        "colab": {
          "base_uri": "https://localhost:8080/"
        },
        "id": "Veir8ui8U9eD",
        "outputId": "661a5146-b2bc-460b-eb31-5c726bbb72af"
      },
      "id": "Veir8ui8U9eD",
      "execution_count": 214,
      "outputs": [
        {
          "output_type": "execute_result",
          "data": {
            "text/plain": [
              "0       6.0\n",
              "1     322.0\n",
              "2      26.0\n",
              "3     112.0\n",
              "4    -119.0\n",
              "5      14.0\n",
              "6   -5713.0\n",
              "7      -5.0\n",
              "8       4.0\n",
              "dtype: float64"
            ]
          },
          "metadata": {},
          "execution_count": 214
        }
      ]
    },
    {
      "cell_type": "code",
      "execution_count": 215,
      "id": "b6726fbf",
      "metadata": {
        "colab": {
          "base_uri": "https://localhost:8080/"
        },
        "id": "b6726fbf",
        "outputId": "31b20f16-d573-4fe7-a93b-5018913b4066"
      },
      "outputs": [
        {
          "output_type": "execute_result",
          "data": {
            "text/plain": [
              "0        0\n",
              "1    16357\n",
              "2    18341\n",
              "3    11109\n",
              "4     2696\n",
              "5    18346\n",
              "6    17885\n",
              "7     1463\n",
              "8     6083\n",
              "dtype: int64"
            ]
          },
          "metadata": {},
          "execution_count": 215
        }
      ],
      "source": [
        "log_data.idxmax()"
      ]
    },
    {
      "cell_type": "code",
      "source": [
        "log_data.idxmin()"
      ],
      "metadata": {
        "colab": {
          "base_uri": "https://localhost:8080/"
        },
        "id": "Q1P4XzuqVFSO",
        "outputId": "50d774c7-502b-47dd-f9dd-29e4c3be7a2f"
      },
      "id": "Q1P4XzuqVFSO",
      "execution_count": 216,
      "outputs": [
        {
          "output_type": "execute_result",
          "data": {
            "text/plain": [
              "0       44\n",
              "1     8123\n",
              "2      500\n",
              "3    20351\n",
              "4     4531\n",
              "5    20070\n",
              "6    14306\n",
              "7     7678\n",
              "8    13987\n",
              "dtype: int64"
            ]
          },
          "metadata": {},
          "execution_count": 216
        }
      ]
    },
    {
      "cell_type": "code",
      "execution_count": 217,
      "id": "bd8b6e8c",
      "metadata": {
        "id": "bd8b6e8c"
      },
      "outputs": [],
      "source": [
        "#train.iloc[6178]"
      ]
    },
    {
      "cell_type": "code",
      "source": [
        "norm_logData = (log_data - log_data.mean()) / log_data.std()\n",
        "norm_logData\n",
        "\n",
        "mean_l = log_data.mean()\n",
        "std =  log_data.std()\n",
        "print(mean_l)\n",
        "print(std)"
      ],
      "metadata": {
        "colab": {
          "base_uri": "https://localhost:8080/"
        },
        "id": "sWJL7PaHbTRF",
        "outputId": "13593b9b-2bca-4085-f96c-d9b18756bc3f"
      },
      "id": "sWJL7PaHbTRF",
      "execution_count": 218,
      "outputs": [
        {
          "output_type": "stream",
          "name": "stdout",
          "text": [
            "0        6.516808\n",
            "1     1991.033102\n",
            "2      979.100292\n",
            "3     1384.605909\n",
            "4      690.083826\n",
            "5      202.240331\n",
            "6    50218.089443\n",
            "7      303.198568\n",
            "8      152.770388\n",
            "dtype: float64\n",
            "0         0.499728\n",
            "1      1158.654284\n",
            "2      1460.097603\n",
            "3       806.427103\n",
            "4      1100.119750\n",
            "5       167.640898\n",
            "6    268559.217730\n",
            "7       386.393986\n",
            "8       135.929749\n",
            "dtype: float64\n"
          ]
        }
      ]
    },
    {
      "cell_type": "code",
      "execution_count": 219,
      "id": "45e44e19",
      "metadata": {
        "colab": {
          "base_uri": "https://localhost:8080/"
        },
        "id": "45e44e19",
        "outputId": "c890c5e6-e146-4f21-9bd4-3e9206e226c0"
      },
      "outputs": [
        {
          "output_type": "stream",
          "name": "stdout",
          "text": [
            "(23322, 2, 4)\n",
            "19.732345710359745\n",
            "[[-0.30124007  1.81094371  0.95298743  0.47309596]\n",
            " [-0.02198503  0.06900719 -0.0405575   1.87030149]]\n",
            "(2, 4)\n",
            "[[[-0.30124007  1.81094371  0.95298743  0.47309596]\n",
            "  [-0.02198503  0.06900719 -0.0405575   1.87030149]]]\n"
          ]
        }
      ],
      "source": [
        "\n",
        "from sklearn.preprocessing import MinMaxScaler\n",
        "scaler = MinMaxScaler ()\n",
        "\n",
        "\n",
        "log_data_0 = np.stack((norm_logData[1].values,norm_logData[3].values, norm_logData[5].values, norm_logData[7].values), axis=1)\n",
        "log_data_1 = np.stack((norm_logData[2].values,norm_logData[4].values, norm_logData[6].values, norm_logData[8].values), axis=1)\n",
        "\n",
        "\n",
        "x_log_data= np.stack((log_data_0,log_data_1), axis=1)\n",
        "\n",
        "print(x_log_data.shape)\n",
        "print(x_log_data.max())\n",
        "\n",
        "print(x_log_data[100])\n",
        "print(x_log_data[100].shape)\n",
        "print(x_log_data[100].reshape(1,2,4))"
      ]
    },
    {
      "cell_type": "code",
      "execution_count": 220,
      "id": "d58c09ff",
      "metadata": {
        "colab": {
          "base_uri": "https://localhost:8080/"
        },
        "id": "d58c09ff",
        "outputId": "7f843f17-17b1-4017-f34f-2d4b22a6b88c"
      },
      "outputs": [
        {
          "output_type": "stream",
          "name": "stdout",
          "text": [
            "(23322,)\n"
          ]
        }
      ],
      "source": [
        "y_log_data  = log_data [0].values\n",
        "print(y_log_data .shape)\n",
        "\n"
      ]
    },
    {
      "cell_type": "code",
      "execution_count": 221,
      "id": "25cdc5b9",
      "metadata": {
        "id": "25cdc5b9"
      },
      "outputs": [],
      "source": [
        "log_data_60 = int(x_log_data.shape[0]*0.6)\n",
        "log_data_40 = x_log_data.shape[0]-log_data_60 \n",
        "\n",
        "x_test = x_log_data[log_data_60:]\n",
        "x_train = x_log_data[:log_data_60]\n",
        "\n",
        "y_test = y_log_data[log_data_60:]\n",
        "y_train = y_log_data[:log_data_60]"
      ]
    },
    {
      "cell_type": "code",
      "execution_count": 222,
      "id": "2bda4989",
      "metadata": {
        "colab": {
          "base_uri": "https://localhost:8080/"
        },
        "id": "2bda4989",
        "outputId": "23e6789f-bf57-4f1f-f76b-1366f4f9de2b"
      },
      "outputs": [
        {
          "output_type": "execute_result",
          "data": {
            "text/plain": [
              "7.0"
            ]
          },
          "metadata": {},
          "execution_count": 222
        }
      ],
      "source": [
        "y_log_data .max()"
      ]
    },
    {
      "cell_type": "code",
      "execution_count": 223,
      "id": "2147cad1",
      "metadata": {
        "colab": {
          "base_uri": "https://localhost:8080/"
        },
        "id": "2147cad1",
        "outputId": "7c9ab384-e7de-40aa-afc7-05e8aef7f46c"
      },
      "outputs": [
        {
          "output_type": "execute_result",
          "data": {
            "text/plain": [
              "array([6., 6., 6., ..., 7., 7., 7.])"
            ]
          },
          "metadata": {},
          "execution_count": 223
        }
      ],
      "source": [
        "y_test\n"
      ]
    },
    {
      "cell_type": "code",
      "execution_count": 224,
      "id": "1cec0e9d",
      "metadata": {
        "id": "1cec0e9d"
      },
      "outputs": [],
      "source": [
        "from tensorflow.keras.utils import to_categorical\n",
        "y_cat_train = to_categorical(y_train, 8)\n",
        "y_cat_test = to_categorical(y_test, 8)\n"
      ]
    },
    {
      "cell_type": "code",
      "execution_count": 225,
      "id": "b795d863",
      "metadata": {
        "colab": {
          "base_uri": "https://localhost:8080/"
        },
        "id": "b795d863",
        "outputId": "28996ca4-4e5f-4ab1-9371-bcf5dcc13fba"
      },
      "outputs": [
        {
          "output_type": "execute_result",
          "data": {
            "text/plain": [
              "(13993, 8)"
            ]
          },
          "metadata": {},
          "execution_count": 225
        }
      ],
      "source": [
        "y_cat_train.shape\n"
      ]
    },
    {
      "cell_type": "code",
      "execution_count": 226,
      "id": "e5988eb2",
      "metadata": {
        "colab": {
          "base_uri": "https://localhost:8080/"
        },
        "id": "e5988eb2",
        "outputId": "0821dd83-5855-42bb-952f-7d9930341492"
      },
      "outputs": [
        {
          "output_type": "execute_result",
          "data": {
            "text/plain": [
              "(9329, 8)"
            ]
          },
          "metadata": {},
          "execution_count": 226
        }
      ],
      "source": [
        "y_cat_test.shape"
      ]
    },
    {
      "cell_type": "code",
      "execution_count": 227,
      "id": "0ea3e689",
      "metadata": {
        "colab": {
          "base_uri": "https://localhost:8080/"
        },
        "id": "0ea3e689",
        "outputId": "5d97e74c-626e-415c-c897-8fbd2adc52d8"
      },
      "outputs": [
        {
          "output_type": "stream",
          "name": "stdout",
          "text": [
            "[0. 0. 0. 0. 0. 0. 0. 1.]\n",
            "[0. 0. 0. 0. 0. 0. 0. 1.]\n"
          ]
        }
      ],
      "source": [
        "print(y_cat_test[727])\n",
        "print(y_cat_train[0])"
      ]
    },
    {
      "cell_type": "code",
      "execution_count": 228,
      "id": "899923fe",
      "metadata": {
        "colab": {
          "base_uri": "https://localhost:8080/"
        },
        "id": "899923fe",
        "outputId": "c794b49b-0ca9-487b-a8a3-a3ca10200225"
      },
      "outputs": [
        {
          "output_type": "execute_result",
          "data": {
            "text/plain": [
              "array([[-0.28829402, -0.26487938,  0.46384665,  0.10559541],\n",
              "       [ 0.64098435,  0.14354453, -0.1869833 ,  1.37739982]])"
            ]
          },
          "metadata": {},
          "execution_count": 228
        }
      ],
      "source": [
        "x_train[334]"
      ]
    },
    {
      "cell_type": "code",
      "execution_count": 229,
      "id": "4681db0b",
      "metadata": {
        "colab": {
          "base_uri": "https://localhost:8080/"
        },
        "id": "4681db0b",
        "outputId": "17493094-0223-492a-991e-310abbad865d"
      },
      "outputs": [
        {
          "output_type": "execute_result",
          "data": {
            "text/plain": [
              "array([[-0.37373797, -0.40872375, -0.00143361, -0.58540913],\n",
              "       [-0.171975  ,  0.06900719, -0.18696841, -0.80755235]])"
            ]
          },
          "metadata": {},
          "execution_count": 229
        }
      ],
      "source": [
        "x_test[335]"
      ]
    },
    {
      "cell_type": "code",
      "execution_count": 230,
      "id": "1a678866",
      "metadata": {
        "colab": {
          "base_uri": "https://localhost:8080/",
          "height": 447
        },
        "id": "1a678866",
        "outputId": "e92f1b80-b645-4cf1-9d63-a0466a8abd2b"
      },
      "outputs": [
        {
          "output_type": "execute_result",
          "data": {
            "text/plain": [
              "<Axes: >"
            ]
          },
          "metadata": {},
          "execution_count": 230
        },
        {
          "output_type": "display_data",
          "data": {
            "text/plain": [
              "<Figure size 640x480 with 2 Axes>"
            ],
            "image/png": "[encoded data removed]"
          },
          "metadata": {}
        }
      ],
      "source": [
        "sns.heatmap(x_train[335].reshape(2,4))"
      ]
    },
    {
      "cell_type": "code",
      "execution_count": 231,
      "id": "6582aae1",
      "metadata": {
        "colab": {
          "base_uri": "https://localhost:8080/",
          "height": 447
        },
        "id": "6582aae1",
        "outputId": "b4ab8b69-4a75-4335-fe8e-9659d531ff98"
      },
      "outputs": [
        {
          "output_type": "execute_result",
          "data": {
            "text/plain": [
              "<Axes: >"
            ]
          },
          "metadata": {},
          "execution_count": 231
        },
        {
          "output_type": "display_data",
          "data": {
            "text/plain": [
              "<Figure size 640x480 with 2 Axes>"
            ],
            "image/png": "[encoded data removed]"
          },
          "metadata": {}
        }
      ],
      "source": [
        "sns.heatmap(x_train[353].reshape(2,4))"
      ]
    },
    {
      "cell_type": "code",
      "execution_count": 232,
      "id": "825e805b",
      "metadata": {
        "id": "825e805b"
      },
      "outputs": [],
      "source": [
        "from tensorflow.keras.models import Sequential"
      ]
    },
    {
      "cell_type": "code",
      "execution_count": 233,
      "id": "a8171f05",
      "metadata": {
        "id": "a8171f05"
      },
      "outputs": [],
      "source": [
        "from tensorflow.keras.layers import Dense, Flatten, MaxPool2D, BatchNormalization, Dropout, LeakyReLU, GlobalAveragePooling1D, Conv2D\n",
        "from keras.layers import MaxPooling2D\n",
        "from keras.layers import Conv1D, MaxPooling1D\n",
        "from keras.regularizers import l2\n"
      ]
    },
    {
      "cell_type": "code",
      "execution_count": 234,
      "id": "c80252e2",
      "metadata": {
        "id": "c80252e2"
      },
      "outputs": [],
      "source": [
        "model = Sequential()\n",
        "\n",
        "\n",
        "model.add(Conv2D(filters = 32, kernel_size= (1,1), activation='relu',kernel_regularizer=l2(0.001),input_shape=(2,4,1)))\n",
        "#model.add(BatchNormalization())\n",
        "model.add(Conv2D(filters = 32, kernel_size= (1,2), activation='relu', kernel_regularizer=l2(0.001)))\n",
        "model.add(Conv2D(filters = 32, kernel_size= (2,2), activation='relu', kernel_regularizer=l2(0.001)))\n",
        "model.add(Flatten())\n",
        "model.add(Dense(64,activation='relu', kernel_regularizer=l2(0.001)))\n",
        "model.add(Dropout(0.5))\n",
        "\n",
        "# OUTPUT LAYER SOFTMAX--> MULTI CLASS\n",
        "model.add(Dense(8, activation='softmax'))\n",
        "#keras.io/metrics\n",
        "\n",
        "model.compile(loss='categorical_crossentropy', optimizer='adam',\n",
        "metrics=['acc'])\n",
        "\n"
      ]
    },
    {
      "cell_type": "code",
      "execution_count": 235,
      "id": "668b6063",
      "metadata": {
        "colab": {
          "base_uri": "https://localhost:8080/"
        },
        "id": "668b6063",
        "outputId": "28a6cf85-3215-4bde-e48c-1f5b8d3e2d38"
      },
      "outputs": [
        {
          "output_type": "stream",
          "name": "stdout",
          "text": [
            "Model: \"sequential_4\"\n",
            "_________________________________________________________________\n",
            " Layer (type)                Output Shape              Param #   \n",
            "=================================================================\n",
            " conv2d_12 (Conv2D)          (None, 2, 4, 32)          64        \n",
            "                                                                 \n",
            " conv2d_13 (Conv2D)          (None, 2, 3, 32)          2080      \n",
            "                                                                 \n",
            " conv2d_14 (Conv2D)          (None, 1, 2, 32)          4128      \n",
            "                                                                 \n",
            " flatten_4 (Flatten)         (None, 64)                0         \n",
            "                                                                 \n",
            " dense_8 (Dense)             (None, 64)                4160      \n",
            "                                                                 \n",
            " dropout_4 (Dropout)         (None, 64)                0         \n",
            "                                                                 \n",
            " dense_9 (Dense)             (None, 8)                 520       \n",
            "                                                                 \n",
            "=================================================================\n",
            "Total params: 10,952\n",
            "Trainable params: 10,952\n",
            "Non-trainable params: 0\n",
            "_________________________________________________________________\n"
          ]
        }
      ],
      "source": [
        "model.summary()"
      ]
    },
    {
      "cell_type": "code",
      "execution_count": 236,
      "id": "378f2ff1",
      "metadata": {
        "id": "378f2ff1"
      },
      "outputs": [],
      "source": [
        "from tensorflow.keras.callbacks import EarlyStopping"
      ]
    },
    {
      "cell_type": "code",
      "execution_count": 237,
      "id": "d7c07427",
      "metadata": {
        "id": "d7c07427",
        "colab": {
          "base_uri": "https://localhost:8080/"
        },
        "outputId": "1dc33e18-1f61-4aca-ee7a-9ee827f0db8e"
      },
      "outputs": [
        {
          "output_type": "stream",
          "name": "stdout",
          "text": [
            "(9329, 2, 4)\n"
          ]
        }
      ],
      "source": [
        "early_stop = EarlyStopping (monitor=\"val_loss\", patience=12)\n",
        "\n",
        "print(x_test.shape)"
      ]
    },
    {
      "cell_type": "code",
      "execution_count": 238,
      "id": "406e2734",
      "metadata": {
        "colab": {
          "base_uri": "https://localhost:8080/"
        },
        "id": "406e2734",
        "outputId": "b946bc26-3cc3-463e-b854-52c6a5b9e4b1"
      },
      "outputs": [
        {
          "output_type": "stream",
          "name": "stdout",
          "text": [
            "Epoch 1/100\n",
            "438/438 [==============================] - 4s 4ms/step - loss: 0.8159 - acc: 0.6070 - val_loss: 0.6886 - val_acc: 0.6214\n",
            "Epoch 2/100\n",
            "438/438 [==============================] - 2s 5ms/step - loss: 0.6605 - acc: 0.6621 - val_loss: 0.6670 - val_acc: 0.6270\n",
            "Epoch 3/100\n",
            "438/438 [==============================] - 2s 4ms/step - loss: 0.6374 - acc: 0.6700 - val_loss: 0.6495 - val_acc: 0.6489\n",
            "Epoch 4/100\n",
            "438/438 [==============================] - 2s 4ms/step - loss: 0.6249 - acc: 0.6723 - val_loss: 0.6388 - val_acc: 0.6577\n",
            "Epoch 5/100\n",
            "438/438 [==============================] - 2s 4ms/step - loss: 0.6152 - acc: 0.6759 - val_loss: 0.6348 - val_acc: 0.6467\n",
            "Epoch 6/100\n",
            "438/438 [==============================] - 2s 6ms/step - loss: 0.6082 - acc: 0.6740 - val_loss: 0.6327 - val_acc: 0.6284\n",
            "Epoch 7/100\n",
            "438/438 [==============================] - 2s 4ms/step - loss: 0.6021 - acc: 0.6793 - val_loss: 0.6233 - val_acc: 0.6631\n",
            "Epoch 8/100\n",
            "438/438 [==============================] - 2s 4ms/step - loss: 0.5972 - acc: 0.6878 - val_loss: 0.6274 - val_acc: 0.6372\n",
            "Epoch 9/100\n",
            "438/438 [==============================] - 2s 4ms/step - loss: 0.5941 - acc: 0.6886 - val_loss: 0.6334 - val_acc: 0.6264\n",
            "Epoch 10/100\n",
            "438/438 [==============================] - 2s 4ms/step - loss: 0.5903 - acc: 0.6906 - val_loss: 0.6233 - val_acc: 0.6549\n",
            "Epoch 11/100\n",
            "438/438 [==============================] - 2s 4ms/step - loss: 0.5873 - acc: 0.6898 - val_loss: 0.6336 - val_acc: 0.6482\n",
            "Epoch 12/100\n",
            "438/438 [==============================] - 2s 5ms/step - loss: 0.5843 - acc: 0.6963 - val_loss: 0.6183 - val_acc: 0.6551\n",
            "Epoch 13/100\n",
            "438/438 [==============================] - 2s 5ms/step - loss: 0.5808 - acc: 0.6929 - val_loss: 0.6379 - val_acc: 0.6328\n",
            "Epoch 14/100\n",
            "438/438 [==============================] - 2s 4ms/step - loss: 0.5796 - acc: 0.6983 - val_loss: 0.6381 - val_acc: 0.6360\n",
            "Epoch 15/100\n",
            "438/438 [==============================] - 2s 4ms/step - loss: 0.5754 - acc: 0.7076 - val_loss: 0.6324 - val_acc: 0.6327\n",
            "Epoch 16/100\n",
            "438/438 [==============================] - 1s 3ms/step - loss: 0.5748 - acc: 0.6981 - val_loss: 0.6322 - val_acc: 0.6322\n",
            "Epoch 17/100\n",
            "438/438 [==============================] - 2s 3ms/step - loss: 0.5698 - acc: 0.7079 - val_loss: 0.6396 - val_acc: 0.6510\n",
            "Epoch 18/100\n",
            "438/438 [==============================] - 1s 3ms/step - loss: 0.5686 - acc: 0.7114 - val_loss: 0.6425 - val_acc: 0.6369\n",
            "Epoch 19/100\n",
            "438/438 [==============================] - 2s 4ms/step - loss: 0.5660 - acc: 0.7073 - val_loss: 0.6408 - val_acc: 0.6452\n",
            "Epoch 20/100\n",
            "438/438 [==============================] - 2s 5ms/step - loss: 0.5638 - acc: 0.7152 - val_loss: 0.6369 - val_acc: 0.6325\n",
            "Epoch 21/100\n",
            "438/438 [==============================] - 2s 5ms/step - loss: 0.5624 - acc: 0.7162 - val_loss: 0.6377 - val_acc: 0.6452\n",
            "Epoch 22/100\n",
            "438/438 [==============================] - 2s 4ms/step - loss: 0.5618 - acc: 0.7192 - val_loss: 0.6441 - val_acc: 0.6378\n",
            "Epoch 23/100\n",
            "438/438 [==============================] - 2s 4ms/step - loss: 0.5573 - acc: 0.7207 - val_loss: 0.6414 - val_acc: 0.6275\n",
            "Epoch 24/100\n",
            "438/438 [==============================] - 2s 4ms/step - loss: 0.5574 - acc: 0.7227 - val_loss: 0.6346 - val_acc: 0.6355\n"
          ]
        }
      ],
      "source": [
        "results = model.fit(x_train,y_cat_train,batch_size = 32, verbose = 1 ,epochs=100 ,validation_data=(x_test,y_cat_test),callbacks=[early_stop]) \n",
        "#,callbacks=[early_stop]"
      ]
    },
    {
      "cell_type": "code",
      "execution_count": 239,
      "id": "621a3d21",
      "metadata": {
        "colab": {
          "base_uri": "https://localhost:8080/"
        },
        "id": "621a3d21",
        "outputId": "21cfaa24-5ad1-4dcb-8e47-2f4a7b61acfa"
      },
      "outputs": [
        {
          "output_type": "execute_result",
          "data": {
            "text/plain": [
              "(9329, 2, 4)"
            ]
          },
          "metadata": {},
          "execution_count": 239
        }
      ],
      "source": [
        "x_test.shape\n"
      ]
    },
    {
      "cell_type": "code",
      "execution_count": 262,
      "id": "59e37986",
      "metadata": {
        "colab": {
          "base_uri": "https://localhost:8080/"
        },
        "id": "59e37986",
        "outputId": "8ff6c120-910f-425e-bd1e-4d4b141cda6e"
      },
      "outputs": [
        {
          "output_type": "stream",
          "name": "stdout",
          "text": [
            "[[-0.52909061 -0.51164688 -0.68742373 -0.59576126]\n",
            " [-0.59865881 -0.59273895 -0.1869833  -0.43971529]]\n",
            "7.0\n",
            "[[[[-0.52909061]\n",
            "   [-0.51164688]\n",
            "   [-0.68742373]\n",
            "   [-0.59576126]]\n",
            "\n",
            "  [[-0.59865881]\n",
            "   [-0.59273895]\n",
            "   [-0.1869833 ]\n",
            "   [-0.43971529]]]]\n",
            "1/1 [==============================] - 0s 41ms/step\n",
            "[[7.8270929e-08 3.0368696e-08 5.8848183e-08 5.2309019e-08 2.5802500e-08\n",
            "  5.4409270e-08 3.0211544e-01 6.9788420e-01]]\n"
          ]
        }
      ],
      "source": [
        "test_ind = 249\n",
        "\n",
        "my_test = x_train[test_ind]\n",
        "\n",
        "print(my_test)\n",
        "\n",
        "print(y_train[test_ind])\n",
        "print(my_test.reshape(1,2,4,1))\n",
        "print(model.predict(my_test.reshape(1,2,4,1)))"
      ]
    },
    {
      "cell_type": "code",
      "execution_count": 241,
      "id": "ad9d0687",
      "metadata": {
        "colab": {
          "base_uri": "https://localhost:8080/"
        },
        "id": "ad9d0687",
        "outputId": "a594c339-71c9-4da5-ce4c-17e147b7cb90"
      },
      "outputs": [
        {
          "output_type": "execute_result",
          "data": {
            "text/plain": [
              "0       7.0\n",
              "1    1378.0\n",
              "2     105.0\n",
              "3     972.0\n",
              "4      38.0\n",
              "5      87.0\n",
              "6       2.0\n",
              "7      73.0\n",
              "8      93.0\n",
              "Name: 249, dtype: float64"
            ]
          },
          "metadata": {},
          "execution_count": 241
        }
      ],
      "source": [
        "log_data.iloc[249]"
      ]
    },
    {
      "cell_type": "code",
      "execution_count": 242,
      "id": "13ac7bcd",
      "metadata": {
        "id": "13ac7bcd"
      },
      "outputs": [],
      "source": [
        "metrics= pd.DataFrame(results.history)"
      ]
    },
    {
      "cell_type": "code",
      "source": [
        "metrics.keys"
      ],
      "metadata": {
        "colab": {
          "base_uri": "https://localhost:8080/"
        },
        "id": "h3poPUhtbuyA",
        "outputId": "d6d74ad1-150d-485b-e351-80f8cd7bad57"
      },
      "id": "h3poPUhtbuyA",
      "execution_count": 243,
      "outputs": [
        {
          "output_type": "execute_result",
          "data": {
            "text/plain": [
              "<bound method NDFrame.keys of         loss       acc  val_loss   val_acc\n",
              "0   0.815930  0.607018  0.688564  0.621396\n",
              "1   0.660519  0.662117  0.666953  0.626970\n",
              "2   0.637385  0.669978  0.649477  0.648944\n",
              "3   0.624926  0.672265  0.638800  0.657734\n",
              "4   0.615216  0.675909  0.634843  0.646693\n",
              "5   0.608157  0.673980  0.632657  0.628363\n",
              "6   0.602125  0.679268  0.623261  0.663094\n",
              "7   0.597165  0.687772  0.627366  0.637153\n",
              "8   0.594095  0.688630  0.633374  0.626434\n",
              "9   0.590253  0.690631  0.623331  0.654947\n",
              "10  0.587282  0.689845  0.633588  0.648194\n",
              "11  0.584335  0.696348  0.618270  0.655054\n",
              "12  0.580834  0.692918  0.637879  0.632758\n",
              "13  0.579645  0.698349  0.638060  0.635974\n",
              "14  0.575377  0.707640  0.632375  0.632651\n",
              "15  0.574795  0.698063  0.632150  0.632222\n",
              "16  0.569830  0.707925  0.639619  0.650981\n",
              "17  0.568591  0.711427  0.642475  0.636939\n",
              "18  0.566016  0.707282  0.640800  0.645192\n",
              "19  0.563833  0.715215  0.636946  0.632544\n",
              "20  0.562396  0.716215  0.637677  0.645192\n",
              "21  0.561761  0.719217  0.644122  0.637796\n",
              "22  0.557298  0.720717  0.641383  0.627506\n",
              "23  0.557407  0.722718  0.634643  0.635545>"
            ]
          },
          "metadata": {},
          "execution_count": 243
        }
      ]
    },
    {
      "cell_type": "code",
      "execution_count": 244,
      "id": "8fc7ce47",
      "metadata": {
        "colab": {
          "base_uri": "https://localhost:8080/",
          "height": 447
        },
        "id": "8fc7ce47",
        "outputId": "e0348d50-9621-48a4-c613-efe5eb124d2a"
      },
      "outputs": [
        {
          "output_type": "execute_result",
          "data": {
            "text/plain": [
              "<Axes: >"
            ]
          },
          "metadata": {},
          "execution_count": 244
        },
        {
          "output_type": "display_data",
          "data": {
            "text/plain": [
              "<Figure size 640x480 with 1 Axes>"
            ],
            "image/png": "[encoded data removed]"
          },
          "metadata": {}
        }
      ],
      "source": [
        "metrics[[\"acc\",\"val_acc\"]].plot()"
      ]
    },
    {
      "cell_type": "code",
      "execution_count": 245,
      "id": "d42a0db7",
      "metadata": {
        "id": "d42a0db7"
      },
      "outputs": [],
      "source": [
        "from sklearn.metrics import classification_report, confusion_matrix"
      ]
    },
    {
      "cell_type": "code",
      "execution_count": 246,
      "id": "ddbf7477",
      "metadata": {
        "colab": {
          "base_uri": "https://localhost:8080/"
        },
        "id": "ddbf7477",
        "outputId": "720b401c-e97b-4727-dfa6-fdf5752bdd69"
      },
      "outputs": [
        {
          "output_type": "stream",
          "name": "stdout",
          "text": [
            "292/292 [==============================] - 0s 1ms/step\n",
            "[6 6 6 ... 6 6 6]\n"
          ]
        }
      ],
      "source": [
        "\n",
        "input_data = x_test.reshape(x_test.shape[0], x_test.shape[1], x_test.shape[2], 1)\n",
        "predictions= np.argmax(model.predict(input_data), axis=1)\n",
        "print(predictions)"
      ]
    },
    {
      "cell_type": "code",
      "execution_count": 247,
      "id": "f077a274",
      "metadata": {
        "colab": {
          "base_uri": "https://localhost:8080/"
        },
        "id": "f077a274",
        "outputId": "690ef4db-b07f-4d5e-8d2e-3d966f87c6f1"
      },
      "outputs": [
        {
          "output_type": "execute_result",
          "data": {
            "text/plain": [
              "(9329, 8)"
            ]
          },
          "metadata": {},
          "execution_count": 247
        }
      ],
      "source": [
        "y_cat_test.shape"
      ]
    },
    {
      "cell_type": "code",
      "execution_count": 248,
      "id": "afa073db",
      "metadata": {
        "colab": {
          "base_uri": "https://localhost:8080/"
        },
        "id": "afa073db",
        "outputId": "ad363822-777f-41a7-ad12-3cee8fc78e60"
      },
      "outputs": [
        {
          "output_type": "execute_result",
          "data": {
            "text/plain": [
              "array([6., 6., 6., ..., 7., 7., 7.])"
            ]
          },
          "metadata": {},
          "execution_count": 248
        }
      ],
      "source": [
        "y_test"
      ]
    },
    {
      "cell_type": "code",
      "execution_count": 249,
      "id": "07d4c98c",
      "metadata": {
        "colab": {
          "base_uri": "https://localhost:8080/"
        },
        "id": "07d4c98c",
        "outputId": "a458d333-ab16-4f18-8b98-f355151e2df1"
      },
      "outputs": [
        {
          "output_type": "stream",
          "name": "stdout",
          "text": [
            "              precision    recall  f1-score   support\n",
            "\n",
            "         6.0       0.61      0.73      0.66      4592\n",
            "         7.0       0.67      0.55      0.60      4737\n",
            "\n",
            "    accuracy                           0.64      9329\n",
            "   macro avg       0.64      0.64      0.63      9329\n",
            "weighted avg       0.64      0.64      0.63      9329\n",
            "\n"
          ]
        }
      ],
      "source": [
        "print(classification_report(y_test,predictions))"
      ]
    },
    {
      "cell_type": "code",
      "execution_count": 250,
      "id": "2fc728ec",
      "metadata": {
        "colab": {
          "base_uri": "https://localhost:8080/",
          "height": 499
        },
        "id": "2fc728ec",
        "outputId": "1425aacf-8122-4010-80e6-ae4431f62727"
      },
      "outputs": [
        {
          "output_type": "execute_result",
          "data": {
            "text/plain": [
              "(array([4592.,    0.,    0.,    0.,    0.,    0.,    0.,    0.,    0.,\n",
              "        4737.]),\n",
              " array([6. , 6.1, 6.2, 6.3, 6.4, 6.5, 6.6, 6.7, 6.8, 6.9, 7. ]),\n",
              " <BarContainer object of 10 artists>)"
            ]
          },
          "metadata": {},
          "execution_count": 250
        },
        {
          "output_type": "display_data",
          "data": {
            "text/plain": [
              "<Figure size 640x480 with 1 Axes>"
            ],
            "image/png": "[encoded data removed]"
          },
          "metadata": {}
        }
      ],
      "source": [
        "plt.hist(y_test)"
      ]
    },
    {
      "cell_type": "code",
      "execution_count": 251,
      "id": "2586df6f",
      "metadata": {
        "colab": {
          "base_uri": "https://localhost:8080/",
          "height": 499
        },
        "id": "2586df6f",
        "outputId": "838ebc52-ce1f-45fe-d122-a8581a7b9af6"
      },
      "outputs": [
        {
          "output_type": "execute_result",
          "data": {
            "text/plain": [
              "(array([6677.,    0.,    0.,    0.,    0.,    0.,    0.,    0.,    0.,\n",
              "        7316.]),\n",
              " array([6. , 6.1, 6.2, 6.3, 6.4, 6.5, 6.6, 6.7, 6.8, 6.9, 7. ]),\n",
              " <BarContainer object of 10 artists>)"
            ]
          },
          "metadata": {},
          "execution_count": 251
        },
        {
          "output_type": "display_data",
          "data": {
            "text/plain": [
              "<Figure size 640x480 with 1 Axes>"
            ],
            "image/png": "[encoded data removed]"
          },
          "metadata": {}
        }
      ],
      "source": [
        "plt.hist(y_train)"
      ]
    },
    {
      "cell_type": "code",
      "execution_count": 252,
      "id": "170e70ed",
      "metadata": {
        "id": "170e70ed"
      },
      "outputs": [],
      "source": [
        "model.save('model_Final.h5')"
      ]
    },
    {
      "cell_type": "code",
      "execution_count": 253,
      "id": "fe2eff6e",
      "metadata": {
        "id": "fe2eff6e"
      },
      "outputs": [],
      "source": [
        "#from tensorflow import keras\n",
        "#reconstructed_model = keras.models.load_model(\"model_6and7.h5\")"
      ]
    },
    {
      "cell_type": "code",
      "execution_count": 254,
      "id": "8084691e",
      "metadata": {
        "id": "8084691e"
      },
      "outputs": [],
      "source": [
        "#reconstructed_model.predict_classes(my_test.reshape(1,8))"
      ]
    },
    {
      "cell_type": "code",
      "source": [
        "matrix = confusion_matrix(y_test, predictions)"
      ],
      "metadata": {
        "id": "BaqmCMolp0qJ"
      },
      "id": "BaqmCMolp0qJ",
      "execution_count": 255,
      "outputs": []
    },
    {
      "cell_type": "code",
      "source": [
        "matrix"
      ],
      "metadata": {
        "colab": {
          "base_uri": "https://localhost:8080/"
        },
        "id": "wbs-i4wdKjSQ",
        "outputId": "70e2437e-ec6b-4a97-9d3e-89d83d745ce6"
      },
      "id": "wbs-i4wdKjSQ",
      "execution_count": 256,
      "outputs": [
        {
          "output_type": "execute_result",
          "data": {
            "text/plain": [
              "array([[3344, 1248],\n",
              "       [2152, 2585]])"
            ]
          },
          "metadata": {},
          "execution_count": 256
        }
      ]
    },
    {
      "cell_type": "code",
      "source": [
        "# CODE FROM: https://github.com/DTrimarchi10/confusion_matrix/blob/master/cf_matrix.py\n",
        "import numpy as np\n",
        "import matplotlib.pyplot as plt\n",
        "import seaborn as sns\n",
        "\n",
        "def make_confusion_matrix(cf,\n",
        "                          group_names=None,\n",
        "                          categories='auto',\n",
        "                          count=True,\n",
        "                          percent=True,\n",
        "                          cbar=True,\n",
        "                          xyticks=True,\n",
        "                          xyplotlabels=True,\n",
        "                          sum_stats=True,\n",
        "                          figsize=None,\n",
        "                          cmap='Blues',\n",
        "                          title=None):\n",
        "    '''\n",
        "    This function will make a pretty plot of an sklearn Confusion Matrix cm using a Seaborn heatmap visualization.\n",
        "\n",
        "    Arguments\n",
        "    ---------\n",
        "    cf:            confusion matrix to be passed in\n",
        "\n",
        "    group_names:   List of strings that represent the labels row by row to be shown in each square.\n",
        "\n",
        "    categories:    List of strings containing the categories to be displayed on the x,y axis. Default is 'auto'\n",
        "\n",
        "    count:         If True, show the raw number in the confusion matrix. Default is True.\n",
        "\n",
        "    normalize:     If True, show the proportions for each category. Default is True.\n",
        "\n",
        "    cbar:          If True, show the color bar. The cbar values are based off the values in the confusion matrix.\n",
        "                   Default is True.\n",
        "\n",
        "    xyticks:       If True, show x and y ticks. Default is True.\n",
        "\n",
        "    xyplotlabels:  If True, show 'True Label' and 'Predicted Label' on the figure. Default is True.\n",
        "\n",
        "    sum_stats:     If True, display summary statistics below the figure. Default is True.\n",
        "\n",
        "    figsize:       Tuple representing the figure size. Default will be the matplotlib rcParams value.\n",
        "\n",
        "    cmap:          Colormap of the values displayed from matplotlib.pyplot.cm. Default is 'Blues'\n",
        "                   See http://matplotlib.org/examples/color/colormaps_reference.html\n",
        "                   \n",
        "    title:         Title for the heatmap. Default is None.\n",
        "\n",
        "    '''\n",
        "\n",
        "\n",
        "    # CODE TO GENERATE TEXT INSIDE EACH SQUARE\n",
        "    blanks = ['' for i in range(cf.size)]\n",
        "\n",
        "    if group_names and len(group_names)==cf.size:\n",
        "        group_labels = [\"{}\\n\".format(value) for value in group_names]\n",
        "    else:\n",
        "        group_labels = blanks\n",
        "\n",
        "    if count:\n",
        "        group_counts = [\"{0:0.0f}\\n\".format(value) for value in cf.flatten()]\n",
        "    else:\n",
        "        group_counts = blanks\n",
        "\n",
        "    if percent:\n",
        "        group_percentages = [\"{0:.2%}\".format(value) for value in cf.flatten()/np.sum(cf)]\n",
        "    else:\n",
        "        group_percentages = blanks\n",
        "\n",
        "    box_labels = [f\"{v1}{v2}{v3}\".strip() for v1, v2, v3 in zip(group_labels,group_counts,group_percentages)]\n",
        "    box_labels = np.asarray(box_labels).reshape(cf.shape[0],cf.shape[1])\n",
        "\n",
        "\n",
        "    # CODE TO GENERATE SUMMARY STATISTICS & TEXT FOR SUMMARY STATS\n",
        "    if sum_stats:\n",
        "        #Accuracy is sum of diagonal divided by total observations\n",
        "        accuracy  = np.trace(cf) / float(np.sum(cf))\n",
        "\n",
        "        #if it is a binary confusion matrix, show some more stats\n",
        "        if len(cf)==2:\n",
        "            #Metrics for Binary Confusion Matrices\n",
        "            precision = cf[1,1] / sum(cf[:,1])\n",
        "            recall    = cf[1,1] / sum(cf[1,:])\n",
        "            f1_score  = 2*precision*recall / (precision + recall)\n",
        "            stats_text = \"\\n\\nAccuracy={:0.3f}\\nPrecision={:0.3f}\\nRecall={:0.3f}\\nF1 Score={:0.3f}\".format(\n",
        "                accuracy,precision,recall,f1_score)\n",
        "        else:\n",
        "            stats_text = \"\\n\\nAccuracy={:0.3f}\".format(accuracy)\n",
        "    else:\n",
        "        stats_text = \"\"\n",
        "\n",
        "\n",
        "    # SET FIGURE PARAMETERS ACCORDING TO OTHER ARGUMENTS\n",
        "    if figsize==None:\n",
        "        #Get default figure size if not set\n",
        "        figsize = plt.rcParams.get('figure.figsize')\n",
        "\n",
        "    if xyticks==False:\n",
        "        #Do not show categories if xyticks is False\n",
        "        categories=False\n",
        "\n",
        "\n",
        "    # MAKE THE HEATMAP VISUALIZATION\n",
        "    plt.figure(figsize=figsize)\n",
        "    sns.heatmap(cf,annot=box_labels,fmt=\"\",cmap=cmap,cbar=cbar,xticklabels=categories,yticklabels=categories)\n",
        "\n",
        "    if xyplotlabels:\n",
        "        plt.ylabel('True label')\n",
        "        plt.xlabel('Predicted label' + stats_text)\n",
        "    else:\n",
        "        plt.xlabel(stats_text)\n",
        "    \n",
        "    if title:\n",
        "        plt.title(title)"
      ],
      "metadata": {
        "id": "ty9mQTnzMXX_"
      },
      "id": "ty9mQTnzMXX_",
      "execution_count": 257,
      "outputs": []
    },
    {
      "cell_type": "code",
      "source": [
        "#labels = [\"True Neg\",\"False Pos\",\"False Neg\",\"True Pos\"]\n",
        "categories = [\"Closed\", \"Open\"]\n",
        "make_confusion_matrix(matrix, \n",
        "                      categories=categories, \n",
        "                      )"
      ],
      "metadata": {
        "colab": {
          "base_uri": "https://localhost:8080/",
          "height": 530
        },
        "id": "pxDmD5VtLOF3",
        "outputId": "94febf00-6406-43c6-a263-b4debf647d02"
      },
      "id": "pxDmD5VtLOF3",
      "execution_count": 258,
      "outputs": [
        {
          "output_type": "display_data",
          "data": {
            "text/plain": [
              "<Figure size 640x480 with 2 Axes>"
            ],
            "image/png": "[encoded data removed]"
          },
          "metadata": {}
        }
      ]
    },
    {
      "cell_type": "code",
      "source": [
        "df1 = log_data.iloc[126:, [0,3]]\n",
        "\n",
        "df1 = df1.set_axis([\"prediction\",\"in1\"], axis=1)\n",
        "df1 = df1.iloc[:22278]\n",
        "df1\n",
        "\n",
        "\n"
      ],
      "metadata": {
        "id": "7BmhlAFdMc4i",
        "colab": {
          "base_uri": "https://localhost:8080/",
          "height": 424
        },
        "outputId": "57291883-e768-4193-cfc1-ddbb6ac321b4"
      },
      "id": "7BmhlAFdMc4i",
      "execution_count": 339,
      "outputs": [
        {
          "output_type": "execute_result",
          "data": {
            "text/plain": [
              "       prediction     in1\n",
              "126           6.0   634.0\n",
              "127           6.0   736.0\n",
              "128           6.0   752.0\n",
              "129           6.0   723.0\n",
              "130           6.0   720.0\n",
              "...           ...     ...\n",
              "22399         6.0  1039.0\n",
              "22400         6.0  1049.0\n",
              "22401         6.0  1102.0\n",
              "22402         6.0  1082.0\n",
              "22403         6.0  1086.0\n",
              "\n",
              "[22278 rows x 2 columns]"
            ],
            "text/html": [
              "\n",
              "  <div id=\"df-2fa4468d-55fa-49dd-918c-debd099341b8\">\n",
              "    <div class=\"colab-df-container\">\n",
              "      <div>\n",
              "<style scoped>\n",
              "    .dataframe tbody tr th:only-of-type {\n",
              "        vertical-align: middle;\n",
              "    }\n",
              "\n",
              "    .dataframe tbody tr th {\n",
              "        vertical-align: top;\n",
              "    }\n",
              "\n",
              "    .dataframe thead th {\n",
              "        text-align: right;\n",
              "    }\n",
              "</style>\n",
              "<table border=\"1\" class=\"dataframe\">\n",
              "  <thead>\n",
              "    <tr style=\"text-align: right;\">\n",
              "      <th></th>\n",
              "      <th>prediction</th>\n",
              "      <th>in1</th>\n",
              "    </tr>\n",
              "  </thead>\n",
              "  <tbody>\n",
              "    <tr>\n",
              "      <th>126</th>\n",
              "      <td>6.0</td>\n",
              "      <td>634.0</td>\n",
              "    </tr>\n",
              "    <tr>\n",
              "      <th>127</th>\n",
              "      <td>6.0</td>\n",
              "      <td>736.0</td>\n",
              "    </tr>\n",
              "    <tr>\n",
              "      <th>128</th>\n",
              "      <td>6.0</td>\n",
              "      <td>752.0</td>\n",
              "    </tr>\n",
              "    <tr>\n",
              "      <th>129</th>\n",
              "      <td>6.0</td>\n",
              "      <td>723.0</td>\n",
              "    </tr>\n",
              "    <tr>\n",
              "      <th>130</th>\n",
              "      <td>6.0</td>\n",
              "      <td>720.0</td>\n",
              "    </tr>\n",
              "    <tr>\n",
              "      <th>...</th>\n",
              "      <td>...</td>\n",
              "      <td>...</td>\n",
              "    </tr>\n",
              "    <tr>\n",
              "      <th>22399</th>\n",
              "      <td>6.0</td>\n",
              "      <td>1039.0</td>\n",
              "    </tr>\n",
              "    <tr>\n",
              "      <th>22400</th>\n",
              "      <td>6.0</td>\n",
              "      <td>1049.0</td>\n",
              "    </tr>\n",
              "    <tr>\n",
              "      <th>22401</th>\n",
              "      <td>6.0</td>\n",
              "      <td>1102.0</td>\n",
              "    </tr>\n",
              "    <tr>\n",
              "      <th>22402</th>\n",
              "      <td>6.0</td>\n",
              "      <td>1082.0</td>\n",
              "    </tr>\n",
              "    <tr>\n",
              "      <th>22403</th>\n",
              "      <td>6.0</td>\n",
              "      <td>1086.0</td>\n",
              "    </tr>\n",
              "  </tbody>\n",
              "</table>\n",
              "<p>22278 rows × 2 columns</p>\n",
              "</div>\n",
              "      <button class=\"colab-df-convert\" onclick=\"convertToInteractive('df-2fa4468d-55fa-49dd-918c-debd099341b8')\"\n",
              "              title=\"Convert this dataframe to an interactive table.\"\n",
              "              style=\"display:none;\">\n",
              "        \n",
              "  <svg xmlns=\"http://www.w3.org/2000/svg\" height=\"24px\"viewBox=\"0 0 24 24\"\n",
              "       width=\"24px\">\n",
              "    <path d=\"M0 0h24v24H0V0z\" fill=\"none\"/>\n",
              "    <path d=\"M18.56 5.44l.94 2.06.94-2.06 2.06-.94-2.06-.94-.94-2.06-.94 2.06-2.06.94zm-11 1L8.5 8.5l.94-2.06 2.06-.94-2.06-.94L8.5 2.5l-.94 2.06-2.06.94zm10 10l.94 2.06.94-2.06 2.06-.94-2.06-.94-.94-2.06-.94 2.06-2.06.94z\"/><path d=\"M17.41 7.96l-1.37-1.37c-.4-.4-.92-.59-1.43-.59-.52 0-1.04.2-1.43.59L10.3 9.45l-7.72 7.72c-.78.78-.78 2.05 0 2.83L4 21.41c.39.39.9.59 1.41.59.51 0 1.02-.2 1.41-.59l7.78-7.78 2.81-2.81c.8-.78.8-2.07 0-2.86zM5.41 20L4 18.59l7.72-7.72 1.47 1.35L5.41 20z\"/>\n",
              "  </svg>\n",
              "      </button>\n",
              "      \n",
              "  <style>\n",
              "    .colab-df-container {\n",
              "      display:flex;\n",
              "      flex-wrap:wrap;\n",
              "      gap: 12px;\n",
              "    }\n",
              "\n",
              "    .colab-df-convert {\n",
              "      background-color: #E8F0FE;\n",
              "      border: none;\n",
              "      border-radius: 50%;\n",
              "      cursor: pointer;\n",
              "      display: none;\n",
              "      fill: #1967D2;\n",
              "      height: 32px;\n",
              "      padding: 0 0 0 0;\n",
              "      width: 32px;\n",
              "    }\n",
              "\n",
              "    .colab-df-convert:hover {\n",
              "      background-color: #E2EBFA;\n",
              "      box-shadow: 0px 1px 2px rgba(60, 64, 67, 0.3), 0px 1px 3px 1px rgba(60, 64, 67, 0.15);\n",
              "      fill: #174EA6;\n",
              "    }\n",
              "\n",
              "    [theme=dark] .colab-df-convert {\n",
              "      background-color: #3B4455;\n",
              "      fill: #D2E3FC;\n",
              "    }\n",
              "\n",
              "    [theme=dark] .colab-df-convert:hover {\n",
              "      background-color: #434B5C;\n",
              "      box-shadow: 0px 1px 3px 1px rgba(0, 0, 0, 0.15);\n",
              "      filter: drop-shadow(0px 1px 2px rgba(0, 0, 0, 0.3));\n",
              "      fill: #FFFFFF;\n",
              "    }\n",
              "  </style>\n",
              "\n",
              "      <script>\n",
              "        const buttonEl =\n",
              "          document.querySelector('#df-2fa4468d-55fa-49dd-918c-debd099341b8 button.colab-df-convert');\n",
              "        buttonEl.style.display =\n",
              "          google.colab.kernel.accessAllowed ? 'block' : 'none';\n",
              "\n",
              "        async function convertToInteractive(key) {\n",
              "          const element = document.querySelector('#df-2fa4468d-55fa-49dd-918c-debd099341b8');\n",
              "          const dataTable =\n",
              "            await google.colab.kernel.invokeFunction('convertToInteractive',\n",
              "                                                     [key], {});\n",
              "          if (!dataTable) return;\n",
              "\n",
              "          const docLinkHtml = 'Like what you see? Visit the ' +\n",
              "            '<a target=\"_blank\" href=https://colab.research.google.com/notebooks/data_table.ipynb>data table notebook</a>'\n",
              "            + ' to learn more about interactive tables.';\n",
              "          element.innerHTML = '';\n",
              "          dataTable['output_type'] = 'display_data';\n",
              "          await google.colab.output.renderOutput(dataTable, element);\n",
              "          const docLink = document.createElement('div');\n",
              "          docLink.innerHTML = docLinkHtml;\n",
              "          element.appendChild(docLink);\n",
              "        }\n",
              "      </script>\n",
              "    </div>\n",
              "  </div>\n",
              "  "
            ]
          },
          "metadata": {},
          "execution_count": 339
        }
      ]
    },
    {
      "cell_type": "code",
      "source": [],
      "metadata": {
        "id": "DlIGibwcPmxP"
      },
      "id": "DlIGibwcPmxP",
      "execution_count": 259,
      "outputs": []
    },
    {
      "cell_type": "code",
      "source": [
        "df2 = pd.read_csv(\"ReadLog.txt\",sep = \";\", header = None, dtype = float, on_bad_lines='skip' )\n",
        "df2 = df2.set_axis([\"in1\",\"prediction\"], axis=1)\n",
        "\n",
        "#df2 = df2.iloc[-9329:]\n",
        "df2\n"
      ],
      "metadata": {
        "colab": {
          "base_uri": "https://localhost:8080/",
          "height": 424
        },
        "id": "GzwxkAZhM-8l",
        "outputId": "582318b7-a4df-4148-9c38-69300231cab9"
      },
      "id": "GzwxkAZhM-8l",
      "execution_count": 338,
      "outputs": [
        {
          "output_type": "execute_result",
          "data": {
            "text/plain": [
              "          in1  prediction\n",
              "0       634.0         6.0\n",
              "1       736.0         6.0\n",
              "2       752.0         6.0\n",
              "3       723.0         6.0\n",
              "4       720.0         6.0\n",
              "...       ...         ...\n",
              "22273  1039.0         7.0\n",
              "22274  1049.0         7.0\n",
              "22275  1102.0         6.0\n",
              "22276  1082.0         6.0\n",
              "22277  1086.0         6.0\n",
              "\n",
              "[22278 rows x 2 columns]"
            ],
            "text/html": [
              "\n",
              "  <div id=\"df-1cbe922d-f2d3-4f53-938a-2c7be3a8f998\">\n",
              "    <div class=\"colab-df-container\">\n",
              "      <div>\n",
              "<style scoped>\n",
              "    .dataframe tbody tr th:only-of-type {\n",
              "        vertical-align: middle;\n",
              "    }\n",
              "\n",
              "    .dataframe tbody tr th {\n",
              "        vertical-align: top;\n",
              "    }\n",
              "\n",
              "    .dataframe thead th {\n",
              "        text-align: right;\n",
              "    }\n",
              "</style>\n",
              "<table border=\"1\" class=\"dataframe\">\n",
              "  <thead>\n",
              "    <tr style=\"text-align: right;\">\n",
              "      <th></th>\n",
              "      <th>in1</th>\n",
              "      <th>prediction</th>\n",
              "    </tr>\n",
              "  </thead>\n",
              "  <tbody>\n",
              "    <tr>\n",
              "      <th>0</th>\n",
              "      <td>634.0</td>\n",
              "      <td>6.0</td>\n",
              "    </tr>\n",
              "    <tr>\n",
              "      <th>1</th>\n",
              "      <td>736.0</td>\n",
              "      <td>6.0</td>\n",
              "    </tr>\n",
              "    <tr>\n",
              "      <th>2</th>\n",
              "      <td>752.0</td>\n",
              "      <td>6.0</td>\n",
              "    </tr>\n",
              "    <tr>\n",
              "      <th>3</th>\n",
              "      <td>723.0</td>\n",
              "      <td>6.0</td>\n",
              "    </tr>\n",
              "    <tr>\n",
              "      <th>4</th>\n",
              "      <td>720.0</td>\n",
              "      <td>6.0</td>\n",
              "    </tr>\n",
              "    <tr>\n",
              "      <th>...</th>\n",
              "      <td>...</td>\n",
              "      <td>...</td>\n",
              "    </tr>\n",
              "    <tr>\n",
              "      <th>22273</th>\n",
              "      <td>1039.0</td>\n",
              "      <td>7.0</td>\n",
              "    </tr>\n",
              "    <tr>\n",
              "      <th>22274</th>\n",
              "      <td>1049.0</td>\n",
              "      <td>7.0</td>\n",
              "    </tr>\n",
              "    <tr>\n",
              "      <th>22275</th>\n",
              "      <td>1102.0</td>\n",
              "      <td>6.0</td>\n",
              "    </tr>\n",
              "    <tr>\n",
              "      <th>22276</th>\n",
              "      <td>1082.0</td>\n",
              "      <td>6.0</td>\n",
              "    </tr>\n",
              "    <tr>\n",
              "      <th>22277</th>\n",
              "      <td>1086.0</td>\n",
              "      <td>6.0</td>\n",
              "    </tr>\n",
              "  </tbody>\n",
              "</table>\n",
              "<p>22278 rows × 2 columns</p>\n",
              "</div>\n",
              "      <button class=\"colab-df-convert\" onclick=\"convertToInteractive('df-1cbe922d-f2d3-4f53-938a-2c7be3a8f998')\"\n",
              "              title=\"Convert this dataframe to an interactive table.\"\n",
              "              style=\"display:none;\">\n",
              "        \n",
              "  <svg xmlns=\"http://www.w3.org/2000/svg\" height=\"24px\"viewBox=\"0 0 24 24\"\n",
              "       width=\"24px\">\n",
              "    <path d=\"M0 0h24v24H0V0z\" fill=\"none\"/>\n",
              "    <path d=\"M18.56 5.44l.94 2.06.94-2.06 2.06-.94-2.06-.94-.94-2.06-.94 2.06-2.06.94zm-11 1L8.5 8.5l.94-2.06 2.06-.94-2.06-.94L8.5 2.5l-.94 2.06-2.06.94zm10 10l.94 2.06.94-2.06 2.06-.94-2.06-.94-.94-2.06-.94 2.06-2.06.94z\"/><path d=\"M17.41 7.96l-1.37-1.37c-.4-.4-.92-.59-1.43-.59-.52 0-1.04.2-1.43.59L10.3 9.45l-7.72 7.72c-.78.78-.78 2.05 0 2.83L4 21.41c.39.39.9.59 1.41.59.51 0 1.02-.2 1.41-.59l7.78-7.78 2.81-2.81c.8-.78.8-2.07 0-2.86zM5.41 20L4 18.59l7.72-7.72 1.47 1.35L5.41 20z\"/>\n",
              "  </svg>\n",
              "      </button>\n",
              "      \n",
              "  <style>\n",
              "    .colab-df-container {\n",
              "      display:flex;\n",
              "      flex-wrap:wrap;\n",
              "      gap: 12px;\n",
              "    }\n",
              "\n",
              "    .colab-df-convert {\n",
              "      background-color: #E8F0FE;\n",
              "      border: none;\n",
              "      border-radius: 50%;\n",
              "      cursor: pointer;\n",
              "      display: none;\n",
              "      fill: #1967D2;\n",
              "      height: 32px;\n",
              "      padding: 0 0 0 0;\n",
              "      width: 32px;\n",
              "    }\n",
              "\n",
              "    .colab-df-convert:hover {\n",
              "      background-color: #E2EBFA;\n",
              "      box-shadow: 0px 1px 2px rgba(60, 64, 67, 0.3), 0px 1px 3px 1px rgba(60, 64, 67, 0.15);\n",
              "      fill: #174EA6;\n",
              "    }\n",
              "\n",
              "    [theme=dark] .colab-df-convert {\n",
              "      background-color: #3B4455;\n",
              "      fill: #D2E3FC;\n",
              "    }\n",
              "\n",
              "    [theme=dark] .colab-df-convert:hover {\n",
              "      background-color: #434B5C;\n",
              "      box-shadow: 0px 1px 3px 1px rgba(0, 0, 0, 0.15);\n",
              "      filter: drop-shadow(0px 1px 2px rgba(0, 0, 0, 0.3));\n",
              "      fill: #FFFFFF;\n",
              "    }\n",
              "  </style>\n",
              "\n",
              "      <script>\n",
              "        const buttonEl =\n",
              "          document.querySelector('#df-1cbe922d-f2d3-4f53-938a-2c7be3a8f998 button.colab-df-convert');\n",
              "        buttonEl.style.display =\n",
              "          google.colab.kernel.accessAllowed ? 'block' : 'none';\n",
              "\n",
              "        async function convertToInteractive(key) {\n",
              "          const element = document.querySelector('#df-1cbe922d-f2d3-4f53-938a-2c7be3a8f998');\n",
              "          const dataTable =\n",
              "            await google.colab.kernel.invokeFunction('convertToInteractive',\n",
              "                                                     [key], {});\n",
              "          if (!dataTable) return;\n",
              "\n",
              "          const docLinkHtml = 'Like what you see? Visit the ' +\n",
              "            '<a target=\"_blank\" href=https://colab.research.google.com/notebooks/data_table.ipynb>data table notebook</a>'\n",
              "            + ' to learn more about interactive tables.';\n",
              "          element.innerHTML = '';\n",
              "          dataTable['output_type'] = 'display_data';\n",
              "          await google.colab.output.renderOutput(dataTable, element);\n",
              "          const docLink = document.createElement('div');\n",
              "          docLink.innerHTML = docLinkHtml;\n",
              "          element.appendChild(docLink);\n",
              "        }\n",
              "      </script>\n",
              "    </div>\n",
              "  </div>\n",
              "  "
            ]
          },
          "metadata": {},
          "execution_count": 338
        }
      ]
    },
    {
      "cell_type": "code",
      "source": [
        "df3 = df2.merge(df1,on=\"in1\")\n",
        "df3\n"
      ],
      "metadata": {
        "colab": {
          "base_uri": "https://localhost:8080/",
          "height": 424
        },
        "id": "G0mzZoMtNqub",
        "outputId": "0333e6b6-b79c-485b-fb21-79322ab18a45"
      },
      "id": "G0mzZoMtNqub",
      "execution_count": 324,
      "outputs": [
        {
          "output_type": "execute_result",
          "data": {
            "text/plain": [
              "          in1  prediction_x  prediction_y\n",
              "0      1516.0           6.0           6.0\n",
              "1      1516.0           6.0           7.0\n",
              "2      1516.0           6.0           7.0\n",
              "3      1516.0           6.0           7.0\n",
              "4      1516.0           6.0           7.0\n",
              "...       ...           ...           ...\n",
              "63360  2574.0           7.0           7.0\n",
              "63361  2720.0           7.0           7.0\n",
              "63362  2606.0           7.0           7.0\n",
              "63363  2339.0           7.0           7.0\n",
              "63364  2297.0           7.0           7.0\n",
              "\n",
              "[63365 rows x 3 columns]"
            ],
            "text/html": [
              "\n",
              "  <div id=\"df-af41b88d-ef67-4634-abc8-2dc1f274729a\">\n",
              "    <div class=\"colab-df-container\">\n",
              "      <div>\n",
              "<style scoped>\n",
              "    .dataframe tbody tr th:only-of-type {\n",
              "        vertical-align: middle;\n",
              "    }\n",
              "\n",
              "    .dataframe tbody tr th {\n",
              "        vertical-align: top;\n",
              "    }\n",
              "\n",
              "    .dataframe thead th {\n",
              "        text-align: right;\n",
              "    }\n",
              "</style>\n",
              "<table border=\"1\" class=\"dataframe\">\n",
              "  <thead>\n",
              "    <tr style=\"text-align: right;\">\n",
              "      <th></th>\n",
              "      <th>in1</th>\n",
              "      <th>prediction_x</th>\n",
              "      <th>prediction_y</th>\n",
              "    </tr>\n",
              "  </thead>\n",
              "  <tbody>\n",
              "    <tr>\n",
              "      <th>0</th>\n",
              "      <td>1516.0</td>\n",
              "      <td>6.0</td>\n",
              "      <td>6.0</td>\n",
              "    </tr>\n",
              "    <tr>\n",
              "      <th>1</th>\n",
              "      <td>1516.0</td>\n",
              "      <td>6.0</td>\n",
              "      <td>7.0</td>\n",
              "    </tr>\n",
              "    <tr>\n",
              "      <th>2</th>\n",
              "      <td>1516.0</td>\n",
              "      <td>6.0</td>\n",
              "      <td>7.0</td>\n",
              "    </tr>\n",
              "    <tr>\n",
              "      <th>3</th>\n",
              "      <td>1516.0</td>\n",
              "      <td>6.0</td>\n",
              "      <td>7.0</td>\n",
              "    </tr>\n",
              "    <tr>\n",
              "      <th>4</th>\n",
              "      <td>1516.0</td>\n",
              "      <td>6.0</td>\n",
              "      <td>7.0</td>\n",
              "    </tr>\n",
              "    <tr>\n",
              "      <th>...</th>\n",
              "      <td>...</td>\n",
              "      <td>...</td>\n",
              "      <td>...</td>\n",
              "    </tr>\n",
              "    <tr>\n",
              "      <th>63360</th>\n",
              "      <td>2574.0</td>\n",
              "      <td>7.0</td>\n",
              "      <td>7.0</td>\n",
              "    </tr>\n",
              "    <tr>\n",
              "      <th>63361</th>\n",
              "      <td>2720.0</td>\n",
              "      <td>7.0</td>\n",
              "      <td>7.0</td>\n",
              "    </tr>\n",
              "    <tr>\n",
              "      <th>63362</th>\n",
              "      <td>2606.0</td>\n",
              "      <td>7.0</td>\n",
              "      <td>7.0</td>\n",
              "    </tr>\n",
              "    <tr>\n",
              "      <th>63363</th>\n",
              "      <td>2339.0</td>\n",
              "      <td>7.0</td>\n",
              "      <td>7.0</td>\n",
              "    </tr>\n",
              "    <tr>\n",
              "      <th>63364</th>\n",
              "      <td>2297.0</td>\n",
              "      <td>7.0</td>\n",
              "      <td>7.0</td>\n",
              "    </tr>\n",
              "  </tbody>\n",
              "</table>\n",
              "<p>63365 rows × 3 columns</p>\n",
              "</div>\n",
              "      <button class=\"colab-df-convert\" onclick=\"convertToInteractive('df-af41b88d-ef67-4634-abc8-2dc1f274729a')\"\n",
              "              title=\"Convert this dataframe to an interactive table.\"\n",
              "              style=\"display:none;\">\n",
              "        \n",
              "  <svg xmlns=\"http://www.w3.org/2000/svg\" height=\"24px\"viewBox=\"0 0 24 24\"\n",
              "       width=\"24px\">\n",
              "    <path d=\"M0 0h24v24H0V0z\" fill=\"none\"/>\n",
              "    <path d=\"M18.56 5.44l.94 2.06.94-2.06 2.06-.94-2.06-.94-.94-2.06-.94 2.06-2.06.94zm-11 1L8.5 8.5l.94-2.06 2.06-.94-2.06-.94L8.5 2.5l-.94 2.06-2.06.94zm10 10l.94 2.06.94-2.06 2.06-.94-2.06-.94-.94-2.06-.94 2.06-2.06.94z\"/><path d=\"M17.41 7.96l-1.37-1.37c-.4-.4-.92-.59-1.43-.59-.52 0-1.04.2-1.43.59L10.3 9.45l-7.72 7.72c-.78.78-.78 2.05 0 2.83L4 21.41c.39.39.9.59 1.41.59.51 0 1.02-.2 1.41-.59l7.78-7.78 2.81-2.81c.8-.78.8-2.07 0-2.86zM5.41 20L4 18.59l7.72-7.72 1.47 1.35L5.41 20z\"/>\n",
              "  </svg>\n",
              "      </button>\n",
              "      \n",
              "  <style>\n",
              "    .colab-df-container {\n",
              "      display:flex;\n",
              "      flex-wrap:wrap;\n",
              "      gap: 12px;\n",
              "    }\n",
              "\n",
              "    .colab-df-convert {\n",
              "      background-color: #E8F0FE;\n",
              "      border: none;\n",
              "      border-radius: 50%;\n",
              "      cursor: pointer;\n",
              "      display: none;\n",
              "      fill: #1967D2;\n",
              "      height: 32px;\n",
              "      padding: 0 0 0 0;\n",
              "      width: 32px;\n",
              "    }\n",
              "\n",
              "    .colab-df-convert:hover {\n",
              "      background-color: #E2EBFA;\n",
              "      box-shadow: 0px 1px 2px rgba(60, 64, 67, 0.3), 0px 1px 3px 1px rgba(60, 64, 67, 0.15);\n",
              "      fill: #174EA6;\n",
              "    }\n",
              "\n",
              "    [theme=dark] .colab-df-convert {\n",
              "      background-color: #3B4455;\n",
              "      fill: #D2E3FC;\n",
              "    }\n",
              "\n",
              "    [theme=dark] .colab-df-convert:hover {\n",
              "      background-color: #434B5C;\n",
              "      box-shadow: 0px 1px 3px 1px rgba(0, 0, 0, 0.15);\n",
              "      filter: drop-shadow(0px 1px 2px rgba(0, 0, 0, 0.3));\n",
              "      fill: #FFFFFF;\n",
              "    }\n",
              "  </style>\n",
              "\n",
              "      <script>\n",
              "        const buttonEl =\n",
              "          document.querySelector('#df-af41b88d-ef67-4634-abc8-2dc1f274729a button.colab-df-convert');\n",
              "        buttonEl.style.display =\n",
              "          google.colab.kernel.accessAllowed ? 'block' : 'none';\n",
              "\n",
              "        async function convertToInteractive(key) {\n",
              "          const element = document.querySelector('#df-af41b88d-ef67-4634-abc8-2dc1f274729a');\n",
              "          const dataTable =\n",
              "            await google.colab.kernel.invokeFunction('convertToInteractive',\n",
              "                                                     [key], {});\n",
              "          if (!dataTable) return;\n",
              "\n",
              "          const docLinkHtml = 'Like what you see? Visit the ' +\n",
              "            '<a target=\"_blank\" href=https://colab.research.google.com/notebooks/data_table.ipynb>data table notebook</a>'\n",
              "            + ' to learn more about interactive tables.';\n",
              "          element.innerHTML = '';\n",
              "          dataTable['output_type'] = 'display_data';\n",
              "          await google.colab.output.renderOutput(dataTable, element);\n",
              "          const docLink = document.createElement('div');\n",
              "          docLink.innerHTML = docLinkHtml;\n",
              "          element.appendChild(docLink);\n",
              "        }\n",
              "      </script>\n",
              "    </div>\n",
              "  </div>\n",
              "  "
            ]
          },
          "metadata": {},
          "execution_count": 324
        }
      ]
    },
    {
      "cell_type": "code",
      "source": [
        "tl_matrix = confusion_matrix( df1['prediction'].values, df2['prediction'].values)"
      ],
      "metadata": {
        "id": "B22V60W_OJTq"
      },
      "id": "B22V60W_OJTq",
      "execution_count": 340,
      "outputs": []
    },
    {
      "cell_type": "code",
      "source": [
        "tl_matrix"
      ],
      "metadata": {
        "colab": {
          "base_uri": "https://localhost:8080/"
        },
        "id": "k1SJbYOSQbpt",
        "outputId": "9e5207ef-eac1-4432-c4bc-5b009972d024"
      },
      "id": "k1SJbYOSQbpt",
      "execution_count": 341,
      "outputs": [
        {
          "output_type": "execute_result",
          "data": {
            "text/plain": [
              "array([[8431, 2346],\n",
              "       [4659, 6842]])"
            ]
          },
          "metadata": {},
          "execution_count": 341
        }
      ]
    },
    {
      "cell_type": "code",
      "source": [
        "\n",
        "make_confusion_matrix(tl_matrix, \n",
        "                      categories=categories, \n",
        "                      )"
      ],
      "metadata": {
        "colab": {
          "base_uri": "https://localhost:8080/",
          "height": 530
        },
        "id": "V8zy8UIzQdhM",
        "outputId": "10413d77-d185-478b-ed8f-14cb99221a12"
      },
      "id": "V8zy8UIzQdhM",
      "execution_count": 342,
      "outputs": [
        {
          "output_type": "display_data",
          "data": {
            "text/plain": [
              "<Figure size 640x480 with 2 Axes>"
            ],
            "image/png": "[encoded data removed]"
          },
          "metadata": {}
        }
      ]
    },
    {
      "cell_type": "code",
      "source": [
        "print(classification_report(df1['prediction'].values,df2['prediction'].values))"
      ],
      "metadata": {
        "colab": {
          "base_uri": "https://localhost:8080/"
        },
        "id": "dINPpd60QlgK",
        "outputId": "286b80fa-13d6-4fe3-ddd5-8be748f27ad6"
      },
      "id": "dINPpd60QlgK",
      "execution_count": 343,
      "outputs": [
        {
          "output_type": "stream",
          "name": "stdout",
          "text": [
            "              precision    recall  f1-score   support\n",
            "\n",
            "         6.0       0.64      0.78      0.71     10777\n",
            "         7.0       0.74      0.59      0.66     11501\n",
            "\n",
            "    accuracy                           0.69     22278\n",
            "   macro avg       0.69      0.69      0.68     22278\n",
            "weighted avg       0.70      0.69      0.68     22278\n",
            "\n"
          ]
        }
      ]
    },
    {
      "cell_type": "code",
      "source": [],
      "metadata": {
        "id": "kWC4NRzqPLEK"
      },
      "id": "kWC4NRzqPLEK",
      "execution_count": 329,
      "outputs": []
    },
    {
      "cell_type": "code",
      "source": [],
      "metadata": {
        "id": "XYYTzoLjVGZH"
      },
      "id": "XYYTzoLjVGZH",
      "execution_count": 330,
      "outputs": []
    },
    {
      "cell_type": "code",
      "source": [],
      "metadata": {
        "id": "1Hwqk8B3WjH_"
      },
      "id": "1Hwqk8B3WjH_",
      "execution_count": 307,
      "outputs": []
    }
  ],
  "metadata": {
    "kernelspec": {
      "display_name": "Python 3 (ipykernel)",
      "language": "python",
      "name": "python3"
    },
    "language_info": {
      "codemirror_mode": {
        "name": "ipython",
        "version": 3
      },
      "file_extension": ".py",
      "mimetype": "text/x-python",
      "name": "python",
      "nbconvert_exporter": "python",
      "pygments_lexer": "ipython3",
      "version": "3.7.13"
    },
    "colab": {
      "provenance": []
    }
  },
  "nbformat": 4,
  "nbformat_minor": 5
}